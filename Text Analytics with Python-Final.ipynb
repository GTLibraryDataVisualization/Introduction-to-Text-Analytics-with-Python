{
 "cells": [
  {
   "cell_type": "markdown",
   "metadata": {},
   "source": [
    "This workshop we will be using NLTK library to walk you through some basic steps of a text analysis project. NLTK is one of the most popular tools to process human language data. \n",
    "\n",
    "Some basic steps of text analysis we are going to demonstrate include:\n",
    "\n",
    "       -tokenize text\n",
    "       -clean punctuations \n",
    "       -remove stop words \n",
    "       -stemm words \n",
    "       -tag words \n",
    "       -vocabulary diversity\n",
    "       -word frequency distribution\n",
    "       -sentiment analysis"
   ]
  },
  {
   "cell_type": "code",
   "execution_count": 51,
   "metadata": {},
   "outputs": [],
   "source": [
    "from pathlib import Path\n",
    "import pandas as pd\n",
    "import os\n",
    "import glob"
   ]
  },
  {
   "cell_type": "markdown",
   "metadata": {},
   "source": [
    "### Import files\n",
    "\n",
    "In order to import a folder of files, we use the os.chdir function to first navigate to the right directory.\n",
    "\n",
    "Then we use glob.glob function to iterate through all files."
   ]
  },
  {
   "cell_type": "code",
   "execution_count": 52,
   "metadata": {},
   "outputs": [],
   "source": [
    "my_dir =\"/Users/Xmi/Documents/Work/Teaching/DataViz_Workshops/Python/Text_Analysis/IMDB/Sample_data\"\n",
    "os.chdir(my_dir)   #change the current working directory to specified path. \n",
    "os.getcwd()   #getcwd helps check if we are at the right directory\n",
    "\n",
    "reviewList=[]\n",
    "for files in glob.glob(\"*.txt\"):\n",
    "    df = pd.read_csv(files)\n",
    "    for content in df:\n",
    "#         print (content) #read reviews as strings\n",
    "        reviewList.append(content)\n",
    "#print (reviewList)"
   ]
  },
  {
   "cell_type": "markdown",
   "metadata": {},
   "source": [
    "Convert the review list into a huge string."
   ]
  },
  {
   "cell_type": "code",
   "execution_count": 53,
   "metadata": {
    "scrolled": false
   },
   "outputs": [
    {
     "name": "stdout",
     "output_type": "stream",
     "text": [
      "My boyfriend and I went to watch The Guardian.At first I didn't want to watch it  but I loved the mo\n"
     ]
    }
   ],
   "source": [
    "str1= \" \"\n",
    "data = str1.join(reviewList)\n",
    "data = data.replace(\"<br />\",\"\")\n",
    "# print (type(data))\n",
    "print (data[:100])\n",
    "\n",
    "# tokens = nltk.word_tokenize(str(words)) #convert words from list to string and tokenize them\n",
    "# # print (tokens)"
   ]
  },
  {
   "cell_type": "markdown",
   "metadata": {},
   "source": [
    "### Remove punctuation and stop words\n",
    "Tokenization is the process by which big quantity of text is divided into smaller parts called tokens.\n",
    "\n",
    "http://www.nltk.org/nltk_data/"
   ]
  },
  {
   "cell_type": "code",
   "execution_count": 54,
   "metadata": {},
   "outputs": [],
   "source": [
    "import nltk\n",
    "# nltk.download_shell()"
   ]
  },
  {
   "cell_type": "code",
   "execution_count": 55,
   "metadata": {},
   "outputs": [],
   "source": [
    "# import re, pprint\n",
    "from nltk.corpus import stopwords\n",
    "# from nltk import word_tokenize\n",
    "from nltk.tokenize import word_tokenize, sent_tokenize"
   ]
  },
  {
   "cell_type": "code",
   "execution_count": 56,
   "metadata": {},
   "outputs": [
    {
     "name": "stdout",
     "output_type": "stream",
     "text": [
      "['At', 'Guardian', 'I', 'I', 'I', 'I', 'I', 'It', 'My', 'Not', 'The', 'They', 'USCG', 'and', 'and', 'appreciated', 'be', 'best', 'boyfriend', 'but', 'definitely', 'did', 'did', 'do', 'first', 'have', 'in', 'it', 'it', 'it', 'loved', 'me', 'more', 'movie', 'movie-', \"n't\", 'only', 'portrayed', 'really', 'really', 'seen', 'should', 'showed', 'sometime', 'the', 'the', 'the', 'they', 'they', 'think', 'to', 'to', 'very', 'want', 'was', 'watch', 'watch', 'well', 'went', 'what']\n"
     ]
    }
   ],
   "source": [
    "# punctuations = \"$?:!.,;/\\\\&*)--(...-``''\"\n",
    "tokens = word_tokenize(data.replace(\".\",\" \"))\n",
    "# words =[word.lower() for word in tokens if not word in punctuations]\n",
    "print (sorted(tokens[:60]))\n"
   ]
  },
  {
   "cell_type": "code",
   "execution_count": 57,
   "metadata": {},
   "outputs": [
    {
     "name": "stdout",
     "output_type": "stream",
     "text": [
      "[\"'s\", 'a', 'about', 'above', 'after', 'again', 'against', 'ain', 'all', 'am', 'an', 'and', 'any', 'are', 'aren', \"aren't\", 'as', 'at', 'be', 'because', 'been', 'before', 'being', 'below', 'between', 'both', 'but', 'by', 'can', 'couldn', \"couldn't\", 'd', 'did', 'didn', \"didn't\", 'do', 'does', 'doesn', \"doesn't\", 'doing', 'don', \"don't\", 'down', 'during', 'each', 'few', 'for', 'from', 'further', 'had', 'hadn', \"hadn't\", 'has', 'hasn', \"hasn't\", 'have', 'haven', \"haven't\", 'having', 'he', 'her', 'here', 'hers', 'herself', 'him', 'himself', 'his', 'how', 'i', 'if', 'in', 'into', 'is', 'isn', \"isn't\", 'it', \"it's\", 'its', 'itself', 'just', 'll', 'm', 'ma', 'me', 'mightn', \"mightn't\", 'more', 'most', 'mustn', \"mustn't\", 'my', 'myself', 'needn', \"needn't\", 'no', 'nor', 'not', 'now', 'o', 'of', 'off', 'on', 'once', 'only', 'or', 'other', 'our', 'ours', 'ourselves', 'out', 'over', 'own', 're', 's', 'same', 'shan', \"shan't\", 'she', \"she's\", 'should', \"should've\", 'shouldn', \"shouldn't\", 'so', 'some', 'such', 't', 'than', 'that', \"that'll\", 'the', 'their', 'theirs', 'them', 'themselves', 'then', 'there', 'these', 'they', 'this', 'those', 'through', 'to', 'too', 'under', 'until', 'up', 've', 'very', 'was', 'wasn', \"wasn't\", 'we', 'were', 'weren', \"weren't\", 'what', 'when', 'where', 'which', 'while', 'who', 'whom', 'why', 'will', 'with', 'won', \"won't\", 'wouldn', \"wouldn't\", 'y', 'you', \"you'd\", \"you'll\", \"you're\", \"you've\", 'your', 'yours', 'yourself', 'yourselves']\n",
      "['!', '!', '!', '!', '!', '!', '!', '!', '!', '!']\n"
     ]
    }
   ],
   "source": [
    "stop_words = set(stopwords.words('english'))\n",
    "\n",
    "## Add extra stop words after viewing the results\n",
    "stop_words.add(\"m\")\n",
    "stop_words.add(\"'s\")\n",
    "print (sorted(stop_words))\n",
    "\n",
    "filtered_words = [word for word in tokens if not word in stop_words]\n",
    "print (sorted(filtered_words)[:10])\n"
   ]
  },
  {
   "cell_type": "markdown",
   "metadata": {},
   "source": [
    "### Stemming and Lemmatization\n",
    "\n",
    "To reduce inflectional forms and sometimes derivationally related forms of a word to a common base form.\n",
    "\n",
    "Stemming usually refers to a crude heuristic process that chops off the ends of words in the hope of achieving this goal correctly most of the time, and often includes the removal of derivational affixes. \n",
    "\n",
    "Lemmatization usually refers to doing things properly with the use of a vocabulary and morphological analysis of words, normally aiming to remove inflectional endings only and to return the base or dictionary form of a word, which is known as the lemma ."
   ]
  },
  {
   "cell_type": "code",
   "execution_count": 78,
   "metadata": {},
   "outputs": [
    {
     "name": "stdout",
     "output_type": "stream",
     "text": [
      "['my', 'boyfriend', 'i', 'went', 'watch', 'the', 'guardian', 'at', 'first', 'i', \"n't\", 'want', 'watch', 'i', 'love', 'movie-', 'it', 'definit', 'best', 'movi', 'i', 'seen', 'sometim', 'they', 'portray', 'uscg', 'well', 'realli', 'show', 'i', 'think', 'realli', 'appreci', 'not', 'teach', 'realli', 'good', 'movi', 'the', 'movi', 'show', 'realli', 'hard', 'job', 'i', 'think', 'uscg', 'would', 'challeng', 'scari', 'it', 'great', 'movi', 'around', 'i', 'would', 'suggest', 'movi', 'anyon', 'see', 'the', 'end', 'broke', 'heart', 'i', 'know', 'the', 'storylin', 'great', 'i', 'give', '2', 'thumb', 'i', 'cri', 'emot', 'i', 'would', 'give', '20', 'i', 'could', '!', 'david', 'bryce', 'comment', 'nearbi', 'except', 'well', 'written', 'inform', 'almost', 'say', 'everyth', 'i', 'feel', 'darl', 'lili', 'this', 'massiv', 'music', 'peculiar', 'blown', 'produc', 'must', 'caus', 'ruptur', 'paramount', '1970', 'it', 'cost', '22', 'million', 'dollar', '!', 'that', 'simpli', 'irrespons', 'darl', 'lili', 'must', 'greenlit', 'board', 'meet', 'said', '``', 'hey', 'got', 'pink', 'panther', 'guy', 'sound', 'of', 'music', 'gal', 'let', 'get', \"''\", 'hand', 'blank', 'chequ', 'the', 'result', 'hybrid', 'gigi', 'zeppelin', 'half', 'a', 'sixpenc', 'mgm', '40s', 'song', 'danc', 'number', 'style', '(', 'daisi', 'boater', '!', ')', 'hopeless', 'old', 'fashion', 'like', 'music', 'porridg', 'mata', 'hari', 'dramat', 'the', 'product', 'coloss', 'lush', 'breathtak', 'view', 'rest', ':', 'ridicul', 'romanc', 'juli', 'look', 'befuddl', 'hudson', 'alreadi', 'dead', 'mistim', 'comedi', 'astound', 'bore', 'song', 'deaden', 'spectacular', 'film', 'irrit', 'lili', 'like', 'twee', '1940s', 'mega', 'music', 'vulgar', 'bit', 'spice', 'star', '!', 'releas', 'year', 'sad', 'crash', 'final', 'appreci', 'excel', 'film', 'genuin', 'andrew', 'look', 'sublim', 'matur', 'especi', 'last', 'half', 'hour', 'lili', 'poppin', 'dolli', 'frilli', 'i', 'believ', 'realli', 'kill', 'mega', 'music', 'bing', '60s', 'made', 'andrew', 'look', 'like', 'poppin', 'i', 'believ', 'edward', 'intent', 'paramount', 'must', 'collect', 'faint', 'saw', ':', 'anoth', '$', '20', 'million', 'fester', 'catch', '22', '$', '12', 'million', 'on', 'a', 'clear', 'day', '$', '25', 'million', 'paint', 'your', 'wagon', 'financi', 'abyss', 'cleopatra', 'proport', '$', '77', 'million', 'tie', '4', 'film', 'uncertain', 'futur', 'mayb', 'ask', 'seer', 'daisi', 'gambl', 'on', 'a', 'clear', 'day', 'lili', 'popular', 'immedi', 'first', 'releas', 'australia', 'ran', '70mm', 'cinema', 'month', 'fail', 'sub', 'stick', 'ever', 'surfac', 'one', 'night', 'stand', 'on', 'a', 'clear', 'day', 'sunday', 'night', 'doubl', 'thank', 'god', 'paramount', 'simpl', '$', '1million', '(', 'yes', 'one', 'million', 'dollar', ')', 'film', 'love', 'stori', '$', '4', 'million', 'dollar', 'gangster', 'pic', 'the', 'godfath', 'also', 'readi', 'recov', '$', '77', 'million', 'next', 'two', 'year', '$', '5m', 'incred', '!', 'i', 've', 'seen', 'stori', 'kid', \"n't\", 'boy', 'troubl', 'past', 'join', 'militari', 'face', 'past', 'fall', 'love', 'becom', 'man', 'the', 'mentor', 'time', 'play', 'perfect', 'kevin', 'costner', ';', 'an', 'ordinari', 'man', 'common', 'everyday', 'problem', 'live', 'extraordinari', 'convict', 'save', 'live', 'after', 'lose', 'team', 'take', 'teach', 'posit', 'train', 'next', 'generat', 'hero', 'the', 'young', 'troubl', 'recruit', 'play', 'kutcher', 'while', 'scene', 'local', 'love', 'interest', 'tad', 'stiff', \"n't\", 'generat', 'enough', 'heat', 'melt', 'butter', 'compliment', 'costner', 'well', 'i', 'never', 'realli', 'understood', 'sela', 'ward', 'neglect', 'wife', 'felt', 'want', 'costner', 'quit', 'concern', 'safeti', 'oppos', 'selfish', 'need', 'but', 'presenc', 'screen', 'pleasur', 'the', 'two', 'unaccredit', 'star', 'movi', 'coast', 'guard', 'sea', 'both', 'power', 'forc', 'taken', 'grant', 'real', 'life', 'movi', 'the', 'movi', 'slow', 'spot', 'could', 'use', 'wast', '15', 'minut', 'strengthen', 'charact', 'relationship', 'but', 'still', 'work', 'the', 'rescu', 'scene', 'intens', 'well', 'film', 'edit', 'provid', 'maximum', 'impact', 'this', 'movi', 'earn', 'audienc', 'applaus', 'and', 'applaus', 'two', 'son', 'our', 'famili', '(', 'entir', 'sold', 'sneak', 'preview', 'audienc', ')', 'enjoy', '``', 'the', 'guardian', \"''\", 'kevin', 'costner', 'ashton', 'kutcher', 'gave', 'convinc', 'perform', 'fiction', 'helicopt', 'rescu', 'swimmer', 'charact', 'ben', 'jake', 'after', 'see', 'movi', 'ca', \"n't\", 'help', 'imagin', 'difficult', 'must', 'graduat', 'uscg', 'helicopt', 'rescu', 'swimmer', 'school', 'one', 'day', 'take', 'part', 'real', 'rescu', 'even', 'though', 'fiction', 'movi', 'deliv', 'rather', 'convinc', 'virtu', 'team', 'spirit', 'dedic', 'braveri', 'exhibit', 'member', 'actual', 'u', 's', 'coast', 'guard', 'the', 'special', 'effect', 'use', 'creat', 'rescu', 'scene', 'incred', 'you', 'actual', 'felt', 'like', 'take', 'part', 'real', 'rescu', 'i', 'feel', 'movi', 'could', 'made', 'without', '``', 'hollywood', \"''\", 'bar', 'scene', '(', 'see', 'movi', 'might', 'agre', ')', 'sinc', 'real', 'coast', 'guard', 'condon', 'behavior', 'veri', 'entertain', 'action', 'pack', 'definit', 'worth', 'see', 'thank', 'u', 's', 'coast', 'guard', 'real', 'helicopt', 'rescu', 'swimmer', '``', 'so', 'other', 'may', 'live', \"''\", 'i', \"'d\", 'high', 'recommend', 'movi', 'everyon', 'i', \"'m\", 'big', 'fan', 'music', 'although', 'technic', 'might', 'qualifi', 'music', 'but', 'i', 'thought', 'i', 'would', 'give', 'chanc', 'i', 'love', 'war', 'movi', 'it', 'mediocr', 'best', 'hudson', 'seem', 'total', 'kilter', 'role', 'it', \"n't\", 'work', 'juli', 'andrew', 'probabl', 'play', 'part', 'best', 'could', 'i', 'find', 'hard', 'buy', 'conniv', 'decept', 'spi', 'sorri', 'i', 'know', 'classic', 'stereotyp', 'part', 'but', 'i', 'say', 'i', 'think', 'juli', 'beauti', 'feminin', 'look', 'i', 'alway', 'thought', 'matron', 'sure', 'result', 'role', 'sound', 'music', 'mari', 'poppin', 'no', 'doubt', 'desper', 'tri', 'get', 'typecast', 'role', 'she', 'quit', 'beguil', 'appear', 'i', 'still', \"n't\", 'buy', 'spi', 'i', 'could', \"n't\", 'keep', 'focus', 'whole', 'movi', 'found', 'tune', '-', 'convers', 'room', '(', 'i', 'usual', 'never', '-', 'i', \"'m\", 'alway', 'shush', 'everybodi', ')', 'so', 'tell', 'littl', 'held', 'attent', 'do', \"n't\", 'wast', 'time', '!', 'i', 'fortun', 'enough', 'see', 'movi', 'pre-releas', 'last', 'night', 'though', 'i', \"n't\", 'expect', 'actual', 'realli', 'enjoy', 'movi', 'part', 'the', 'rescu', 'sea', 'effect', 'amaz', 'watch', 'definit', 'provid', 'edg', 'seat', 'tens', 'moment', 'probabl', 'know', 'guy', 'live', 'the', 'weaker', 'part', 'movi', 'revolv', 'larg', 'around', 'use', 'stereotyp', 'set', 'scene', 'i', \"'m\", 'go', 'spoil', 'movi', 'realli', 'follow', 'along', 'line', 'an', 'offic', 'gentleman', 'moment', 'give', 'littl', 'bit', 'cheesi', 'aftertast', 'like', 'i', 'said', 'movi', 'pretti', 'good', 'worth', 'check', 'long', 'get', 'past', 'cliché', 'i', 'went', 'saw', 'movi', 'last', 'night', 'coax', 'friend', 'mine', 'i', 'll', 'admit', 'i', 'reluct', 'see', 'i', 'knew', 'ashton', 'kutcher', 'abl', 'comedi', 'i', 'wrong', 'kutcher', 'play', 'charact', 'jake', 'fischer', 'well', 'kevin', 'costner', 'play', 'ben', 'randal', 'profession', 'the', 'sign', 'good', 'movi', 'toy', 'emot', 'this', 'one', 'exact', 'the', 'entir', 'theater', '(', 'sold', ')', 'overcom', 'laughter', 'first', 'half', 'movi', 'move', 'tear', 'second', 'half', 'while', 'exit', 'theater', 'i', 'saw', 'mani', 'women', 'tear', 'mani', 'full', 'grown', 'men', 'well', 'tri', 'desper', 'let', 'anyon', 'see', 'cri', 'this', 'movi', 'great', 'i', 'suggest', 'go', 'see', 'judg', 'it', 'seem', 'ever', 'sinc', '1982', 'everi', 'two', 'three', 'year', 'get', 'movi', 'claim', '``', 'the', 'next', 'offic', 'gentleman', '``', 'there', 'yet', 'one', 'movi', 'live', 'claim', 'movi', 'differ', 'we', 'get', 'usual', 'rip', 'scene', 'oaag', '(', '``', 'i', 'want', 'dor', 'instructor', 'give', 'richard', 'gere', 'charact', 'overdos', 'drill', 'hope', 'll', 'quit', ',', 'gere', 'charact', 'come', 'back', 'girl', ',', 'gere', 'charact', 'realiz', 'instructor', 'great', ',', 'etc', ')', 'movi', 'predict', 'sun', 'rise', 'east', 'horribl', 'miscast', 'top', 'costner', 'play', 'usual', 'wise', 'teacher', \"''\", 'charact', 'charact', 'play', 'realli', 'get', 'sens', 'limit', 'act', 'abil', 'kutcher', 'terribl', 'richard', 'gere', 'charact', 'miscast', 'act', 'skill', 'bare', 'notch', 'keanu', 'reev', 'the', 'main', 'problem', 'oaag', 'wannab', 'two', 'main', 'charact', 'amaz', 'one-dimension', 'never', 'care', 'either', 'least', 'kutcher', 'charact', 'final', 'turn', 'around', '(', 'like', 'gere', 'oaag', ')', 'go', '``', '?', 'the', 'movi', 'leav', 'plot', 'point', 'unturn', 'seem', 'never', 'end', 'say', '``', 'oh', 'wait', 'forgot', 'close', 'girlfriend', 'stori', 'happen', 'graduat', 'stori', 'six', 'plot', 'point', 'movi', '``', 'what', 'baffl', 'great', '``', 'review', \"''\", 'i', 'see', 'the', 'general', 'public', 'opinion', 'never', 'ceas', 'amaz', 'ala', 'anoth', 'costner', 'movi', 'hour', 'long', 'credibl', 'perform', 'script', 'go', 'hurri', 'get', 'first', 'offer', 'unrel', 'string', 'event', 'stori', 'will', 'script', 'center', 'randal', 'wife', '?', 'randal', 'fischer', '?', 'how', 'fischer', 'thoma', '?', 'in', 'end', 'real', 'front', 'stori', 'ever', 'develop', 'charact', 'artifici', 'prop', 'monologu', 'third', 'parti', 'the', 'singer', 'explain', 'randal', 'randal', 'explain', 'fischer', 'final', 'long', \"n't\", 'care', 'anymor', 'learn', 'someth', 'script', 'meet', 'three', 'end', 'doubt', 'proffer', 'one', 'could', 'make', 'decis', 'the', 'end', 'result', '?', 'all', 'three', 'use', 'one', 'anoth', 'anoth', 'if', 'hang', 'past', '100th', 'yawn', 'll', 'abl', 'pick', 'despit', 'transpar', 'attempt', 'gain', 'point', 'dedic', 'coast', 'guard', 'one', 'wash', 'first', 'day', 'i', \"'m\", 'petti', 'offic', '1st', 'class', '(', 'e-6', ')', 'uscg', '6', 'year', 'feel', 'movi', 'strong', 'repres', 'coast', 'guard', 'there', 'scene', 'far', 'fetch', 'the', 'far-fetch', 'po', 'fischer', '(', 'kutcher', ')', 'went', 'insid', 'sink', 'vessel', 'pull', 'vessel', 'captain', 'engin', 'room', 'would', 'never', 'happen', 'swimmer', 'allow', 'go', 'insid', 'vessel', 'matter', 'circumst', 'second', 'command', 'center', '(', 'suppos', 'kodiak', ')', 'look', 'like', 'nasa', 'command', 'center', \"n't\", 'gear', 'hi-tech', 'third', 'captain', 'airstat', 'would', 'run', 'search', '&', 'rescu', 'case', 'like', '10', 'peopl', 'watch', 'in', 'realiti', 'would', 'e-6', 'e-7', 'sar', 'control', 'mayb', '2', 'support', 'personnel', 'like', 'assist', 'sar', 'control', '&', 'radio', 'watchstand', 'otherwis', 'movi', 'dead', 'i', 'think', 'incorpor', 'rate', 'cg', 'role', 'search', '&', 'rescu', 'instead', 'aviat', 'base', 'rate', 'some', 'scene', '``', 'a', \"''\", 'school', 'remind', 'day', 'dumb', 'stuff', 'i', 'got', 'troubl', 'younger', 'day', 'onc', 'mr', 'costner', 'drag', 'movi', 'far', 'longer', 'necessari', 'asid', 'terrif', 'sea', 'rescu', 'sequenc', 'i', 'care', 'charact', 'most', 'us', 'ghost', 'closet', 'costner', 'charact', 'realiz', 'earli', 'forgotten', 'much', 'later', 'time', 'i', 'care', 'the', 'charact', 'realli', 'care', 'cocki', 'overconfid', 'ashton', 'kutcher', 'the', 'problem', 'come', 'kid', 'think', 'better', 'anyon', 'els', 'around', 'show', 'sign', 'clutter', 'closet', 'his', 'obstacl', 'appear', 'win', 'costner', 'final', 'well', 'past', 'half', 'way', 'point', 'stinker', 'costner', 'tell', 'us', 'kutcher', 'ghost', 'we', 'told', 'kutcher', 'driven', 'best', 'prior', 'inkl', 'foreshadow', 'no', 'magic', 'i', 'could', 'keep', 'turn', 'hour', 'my', 'yardstick', 'measur', 'movi', 'watch-abl', 'i', 'get', 'squirmi', 'if', 'i', 'start', 'shift', 'posit', 'notic', 'butt', 'sore', 'film', 'long', 'this', 'movi', 'even', 'come', 'close', 'bore', 'predict', 'part', 'sure', 'never', 'bore', 'all', 'militari', 'branch', 'love', 'note', 'written', 'seen', 'recruit', 'level', 'go', 'coast', 'guard', '?', 'they', 'definit', 'under-appreci', 'day', 'boat', 'sink', 'the', 'movi', 'enjoy', 'fun', 'kevin', 'costner', 'perfect', 'age', 'macho', 'man', \"n't\", 'know', 'quit', 'howev', 'i', 'impress', 'ashton', 'kutcher', 'perform', 'i', 'never', 'like', 'never', 'watch', 'tv', 'show', 'alway', 'consid', 'immatur', 'well', 'punk', 'in', 'film', 'great', 'job', '!', 'he', 'well', 'way', 'leading-man', 'status', 'i', 'think', 'film', 'shown', 'must', 'advanc', 'rough', 'cut', 'someth', '2/3', 'way', 'film', 'stock', 'turn', 'graini', 'sound', 'level', 'drop', 'microphon', 'seen', 'drop', 'place', 'also', 'view', 'repres', 'movi', 'look', 'audienc', 'feedback', '-', 'particular', 'part', 'film', \"n't\", 'like', '*', '*', '*', '*', '*', 'possibl', 'spoiler', ':', 'the', 'feedback', 'i', 'gave', 'concern', 'coupl', 'line', 'begin', 'kevin', 'costner', 'come', 'home', 'see', 'wife', 'sela', 'ward', 'pack', 'stuff', 'move', 'he', 'say', '``', 'mayb', 'i', 'one', 'move', '``', 'and', 'repli', '``', 'no', \"n't\", 'know', 'anyth', 'hous', ';', 'i', 'one', 'go', '``', 'this', \"n't\", 'make', 'sens', ':', 'if', 'know', 'layout', 'well', 'costner', 'right', '*', '*', 'one', 'leav', 'a', 'tough', 'sell', ':', 'british', 'playwright', 'ronald', 'harwood', 'adapt', 'autobiograph', 'stage', 'drama', 'loud', 'bellow', 'film', 'wwii', 'shakespearean', 'theatric', 'troup', 'saddl', 'age', 'blusteri', 'brilliant-but-unreli', 'star', 'end', 'tether', 'the', 'actor', 'effet', 'assist', 'work', 'dilig', 'get', 'master', 'coif', 'costum', 'product', '``', 'king', 'lear', \"''\", '(', 'air', 'raid', '!', ')', 'yet', 'men', 'lose', 'grip', 'unravel', 'situat', 'base', 'wane', 'year', 'actor', 'donald', 'wolfit', 'whose', 'dresser', 'ronald', 'harwood', 'acclaim', 'product', 'would', 'seem', 'welcom', 'scenery-chew', 'thespian', 'unfortun', 'albert', 'finney', '(', 'point', 'career', 'elder', ')', 'seem', 'robust', 'quick-think', 'play', 'actor', ';', 'finney', '(', 'oscar-nomin', 'director', 'peter', 'yate', ')', 'modul', 'sir', 'mood', 'bout', 'coher', 'way', 'make', 'sens', 'us', 'one', 'scene', 'stop', 'train', 'command', 'echo', 'voic', 'next', 'curious', 'fall', 'apart', 'with', 'wreck', 'human', 'midst', 'fail', 'health', 'aptitud', 'one', 'would', 'assum', 'dedic', 'assist', 'would', 'go', 'great', 'length', 'protect', 'boss', '(', 'futur', ')', 'yet', 'servant', 'tom', 'courtenay', 'prod', 'badger', 'goad', 'finney', 'carri', 'rather', 'rest', 'courtenay', 'play', 'part', 'stage', '(', 'nomin', 'oscar', 'alongsid', 'finney', 'best', 'actor', ')', 'far', 'attun', 'role', 'eventu', 'bleat', 'command', 'confus', 'achiev', 'real', 'feel', 'film', 'these', 'two', 'thank', 'peck', 'head', 'scenarist', 'harwood', 'care', 'fall', 'love-h', 'pattern', '(', 'could', 'possibl', 'perceiv', 'film', 'first', 'act', ')', ';', 'without', 'juxtaposit', 'servant', 'vs', 'celebr', 'noth', 'much', 'behold', 'portrait', 'except', 'deterior', 'narciss', 'hint', '*', '1/2', '*', '*', '*', '*', 'i', 'went', 'see', 'movi', 'i', 'alway', 'like', 'kevin', 'costner', 'i', 'felt', 'ashton', 'great', 'job', 'butterfli', 'effect', 'unfortun', 'even', 'though', 'two', 'actor', 'were/ar', 'capabl', 'good', 'great', 'act', 'moment', 'miss', 'some', 'scene', 'believ', \"n't\", 'enough', 'stori', 'line', 'support', 'though', 'movi', 'claim', 'influenc', 'hurrican', 'katrina', 'aftermath', 'littl', '(', 'none', ')', 'effect', 'movi', 'overal', 'i', 'like', 'fact', 'movi', 'brought', 'forward', 'goe', 'save', 'live', 'water', 'perspect', 'the', 'special', 'effect', 'pretti', 'good', 'littl', 'intimid', 'not', 'sure', 'i', 'll', 'ever', 'go', 'deep', 'sea', 'fish', 'i', 'expect', 'littl', 'emot', 'film', 'present', 'definit', 'movi', 'could', 've', 'seen', 'dvd', 'this', 'pale', 'imit', 'offic', 'gentleman', \"'\", 'there', 'no', 'chemistri', 'kutcher', 'unknown', 'woman', 'play', 'love', 'interest', 'the', 'dialog', 'wooden', 'situat', 'hackney', 'it', 'long', 'climax', 'anti-climact', '(', '!', ')', 'i', 'love', 'uscg', 'men', 'women', 'fearless', 'tough', 'the', 'action', 'scene', 'awesom', 'movi', \"n't\", 'much', 'recruit', 'i', 'fear', 'the', 'script', 'formula', 'confus', 'kutcher', 'charact', 'tri', 'redeem', 'accid', \"n't\", 'fault', '?', 'costner', 'rage', 'die', 'light', '?', 'his', 'conflict', \"'\", 'wife', 'deep', 'mud', 'puddl', 'i', 'saw', 'sneak', 'preview', 'free', 'certain', 'felt', 'i', 'got', 'money', 'worth', 'i', 'wish', 'i', 'knew', 'make', 'movi', 'like', 'it', 'seem', 'divid', 'two', 'part', '--', 'action', 'sequenc', 'person', 'drama', 'ashor', 'it', 'follow', 'ashton', 'kutsher', 'surviv', 'swimmer', 'school', 'guid', 'master', 'chief', 'kevin', 'costner', 'alaska', 'coupl', 'spectacular', 'rescu', 'take', 'place', 'last', 'result', 'death', 'i', 'must', 'say', 'scene', 'beach', 'struck', 'stereotyp', 'mani', 'way', 'barnacl', 'encrust', 'a', 'typic', 'bar', 'room', 'fight', 'navi', 'guy', 'coast', 'guardsmen', '(', '``', 'puddl', 'pirat', \"''\", ')', 'the', 'experienc', 'old', 'timer', 'costner', 'elder', 'bar', 'tender', 'tell', '``', 'marri', 'coast', 'guard', '``', 'the', 'older', 'chief', '``', 'keep', 'tri', 'prove', 'still', 'nineteen', '``', 'the', 'neglect', 'ex', 'wife', 'ashor', 'kostner', 'pay', 'farewel', 'visit', 'the', 'seem', 'sadist', 'demand', 'place', 'swimmer', 'instructor', 'pursuit', 'loftier', 'goal', 'the', 'gift', 'young', 'man', 'hobbl', 'troubl', 'past', 'the', 'problem', 've', 'seen', 'if', 'kevin', 'costner', 'clint', 'eastwood', 'john', 'wayn', 'lou', 'gosset', 'jr', 'vigo', 'mortenson', 'robert', 'deniro', 'elsewher', 'and', 'climact', 'scene', 'element', 'drawn', 'shameless', '``', 'the', 'perfect', 'storm', \"''\", '``', 'dead', 'calm', '``', 'none', 'fresh', 'none', 'old', 'stereotyp', 'charact', 'situat', 'handl', 'origin', 'it', 'work', 'best', 'kind', 'documentari', 'goe', 'swimmer', 'school', 'could', 'happen', 'afterward', 'even', 'littl', 'weak', \"n't\", 'get', 'much', 'way', 'instruct', 'it', 'most', 'person', 'conflict', 'romanc', 'tension', 'wash', 'it', 'shame', 'u', 's', 'coast', 'guard', 'rather', 'nobl', 'outfit', 'offici', 'mission', '``', 'safeti', 'live', 'properti', 'sea', '``', 'in', 'war', 'time', 'transfer', 'navi', 'depart', 'serv', 'combat', 'role', 'in', 'world', 'war', 'ii', 'coast', 'guard', 'even', 'manag', 'medal', 'honor', 'winner', 'rank', 'but', \"n't\", 'learn', 'much', 'we', \"n't\", 'realli', 'learn', 'much', 'anyth', 'the', 'film', 'devolv', 'success', 'visual', 'display', 'much', 'els', 'a', 'disappoint', 'how', 'mani', 'movi', 'think', 'see', 'movi', 'like', '?', 'i', 'ca', \"n't\", 'count', 'sure', 'seem', 'like', 'movi', 'maker', 'tri', 'give', 'hint', 'i', 'remind', 'often', 'movi', 'becam', 'big', 'distract', 'one', 'borrow', 'memor', 'line', 'came', 'movi', '2003', '-', 'day', 'after', 'tomorrow', 'one', 'line', 'bad', 'movi', 'borrow', 'much', 'mani', 'movi', 'becom', 'bad', 'risk', 'but', 'see', 'the', 'movi', '!', 'despit', 'downfal', 'enough', 'make', 'interest', 'mayb', 'make', 'appear', 'clever', 'while', 'borrow', 'much', 'movi', 'never', 'goe', 'overboard', 'in', 'fact', 'll', 'probabl', 'find', 'batten', 'hatch', 'ride', 'storm', 'whi', '?', 'costner', 'kutcher', 'play', 'charact', 'well', 'i', 'never', 'fan', 'kutcher', 'i', 'near', 'gave', 'the', 'guardian', 'surfac', 'good', 'fashion', 'costner', 'carri', 'movi', 'swim', 'best', 'costner', 'abil', 'i', \"n't\", 'think', 'mrs', 'robinson', 'anyth', 'success', 'the', 'support', 'cast', 'around', 'play', 'part', 'well', 'i', 'problem', 'end', 'but', 'charact', 'use', 'much', 'from', 'i', 'nit-pick', 'i', 'save', 'wear', 'tear', 'enjoy', 'movi', 'part', 'work', 'work', 'well', 'enough', 'keep', 'head', 'water', 'just', \"n't\", 'expect', 'smooth', 'ride', '7', '10', 'almost', '6', 'this', 'movi', 'sad', 'under-promot', 'prove', 'truli', 'except', 'enter', 'theatr', 'i', 'knew', 'noth', 'film', 'except', 'friend', 'want', 'see', 'i', 'caught', 'guard', 'high', 'qualiti', 'film', 'i', 'could', \"n't\", 'imag', 'ashton', 'kutcher', 'serious', 'role', 'perform', 'truli', 'exemplifi', 'charact', 'this', 'movi', 'except', 'deserv', 'monetari', 'support', 'unlik', 'mani', 'movi', 'it', 'come', 'light', 'recommend', 'movi', 'case', 'i', 'high', 'recommend', 'everyon', 'see', 'this', 'film', 'truli', 'except', '!', 'blake', 'edward', \"'\", 'legendari', 'fiasco', 'begin', 'seem', 'pointless', '10', 'minut', 'a', 'combin', 'the', 'eagl', 'has', 'land', 'star', '!', 'oh', '!', 'what', 'love', 'war', '!', 'edward', \"'\", 'pink', 'panther', 'film', 'darl', 'lili', 'never', 'engag', 'viewer', ';', 'aerial', 'sequenc', 'music', 'number', 'romanc', 'comedi', 'espionag', 'ho', 'hum', 'at', 'point', 'viewer', 'suppos', 'give', 'damn', '?', 'this', 'disast', 'waver', 'tone', 'never', 'decid', 'want', 'appar', 'think', 'spoof', 'pathet', 'grind', 'squar', 'old', 'fashion', 'worst', 'sens', 'audienc', 'understand', 'stay', 'away', 'drove', 'it', 'aw', 'jame', 'garner', 'would', 'vast', 'improv', 'hudson', 'cardboard', \"n't\", 'connect', 'andrew', 'vice', 'versa', 'and', 'andrew', 'hudson', \"n't\", 'seem', 'let', 'joke', 'perform', 'miscalcul', 'earnest', 'blake', 'edward', \"'\", 'sob', \"n't\", 'much', 'ok', 'good', 'ever', 'came', 'darl', 'lili', 'the', 'expens', 'profession', 'look', 'much', 'darl', 'lili', 'make', 'lavish', 'even', 'difficult', 'bear', 'to', 'quot', 'paramount', 'chief', 'robert', 'evan', '``', '24', 'million', 'dollar', 'worth', 'film', 'pictur', \"''\", 'wow', 'anoth', 'kevin', 'costner', 'hero', 'movi', 'postman', 'tin', 'cup', 'waterworld', 'bodyguard', 'wyatt', 'earp', 'robin', 'hood', 'even', 'basebal', 'movi', 'seem', 'like', 'make', 'movi', 'specif', 'center', 'attent', 'the', 'charact', 'almost', 'alway', 'heroic', 'flaw', 'great', 'fall', 'redempt', 'yup', 'within', '1st', '5', 'minut', 'movi', 're', 'suppos', 'awe', 'charact', 'build', 'and', 'time', 'stori', 'stori', '?', 'collag', 'differ', 'movi', 'you', \"n't\", 'need', 'spoiler', ';', 've', 'seen', 'movi', 'sever', 'time', 'though', 'differ', 'titl', 'you', 'll', 'know', 'happen', 'way', 'happen', 'this', 'like', 'mix', 'an', 'offic', 'gentleman', 'backdraft', 'easili', 'better', 'movi', 'watch', 'backdraft', 'see', 'kind', 'movi', 'made', 'also', 'see', 'good', 'slight', 'underr', 'actor', 'russel', 'play', 'hero']\n"
     ]
    }
   ],
   "source": [
    "from nltk.stem import PorterStemmer\n",
    "from nltk.stem import SnowballStemmer\n",
    "from nltk.tokenize import word_tokenize\n",
    "stemmer = PorterStemmer()\n",
    "stemmer2 =SnowballStemmer(\"english\")\n",
    "\n",
    "stem_words = [stemmer2.stem(words) for words in filtered_words]\n",
    "print (stem_words)"
   ]
  },
  {
   "cell_type": "code",
   "execution_count": 76,
   "metadata": {},
   "outputs": [
    {
     "name": "stdout",
     "output_type": "stream",
     "text": [
      "cat\n",
      "giggling\n",
      "giggle\n"
     ]
    }
   ],
   "source": [
    "from nltk.stem import WordNetLemmatizer\n",
    "wnl = WordNetLemmatizer()\n",
    "print (wnl.lemmatize(\"cats\"))\n",
    "print (wnl.lemmatize(\"giggling\"))\n",
    "print (wnl.lemmatize(\"giggling\", \"v\"))\n",
    "\n",
    "# lemm_words = [wnl.lemmatize(word) for word in filtered_words]\n",
    "# print (sorted(lemm_words))\n"
   ]
  },
  {
   "cell_type": "markdown",
   "metadata": {},
   "source": [
    "### Speech Tagging"
   ]
  },
  {
   "cell_type": "markdown",
   "metadata": {},
   "source": [
    "    CC   coordinating conjunction\n",
    "    CD   cardinal digit\n",
    "    DT   determiner\n",
    "    EX   existential there (like: \"there is\" ... think of it like \"there exists\")\n",
    "    FW   foreign word\n",
    "    IN   preposition/subordinating conjunction\n",
    "    JJ   adjective 'big'\n",
    "    JJR   adjective, comparative 'bigger'\n",
    "    JJS   adjective, superlative 'biggest'\n",
    "    LS   list marker 1)\n",
    "    MD   modal could, will\n",
    "    NN   noun, singular 'desk'\n",
    "    NNS   noun plural 'desks'\n",
    "    NNP   proper noun, singular 'Harrison'\n",
    "    NNPS   proper noun, plural 'Americans'\n",
    "    PDT   predeterminer 'all the kids'\n",
    "    POS   possessive ending parent's\n",
    "    PRP   personal pronoun I, he, she\n",
    "    PRP$   possessive pronoun my, his, hers\n",
    "    \n",
    "    RB   adverb very, silently\n",
    "    RBR   adverb, comparative better\n",
    "    UH   interjection errrrrrrrm\n",
    "    VB   verb, base form take\n",
    "    VBD   verb, past tense took\n",
    "    VBG   verb, gerund/present participle taking\n",
    "    VBN   verb, past participle taken\n",
    "    VBP   verb, sing. present, non-3d take\n",
    "    VBZ   verb, 3rd person sing. present takes\n",
    "    WDT   wh-determiner which\n",
    "    WP   wh-pronoun who, what\n",
    "    WP$   possessive wh-pronoun whose\n",
    "    WRB   wh-abverb where, when\n",
    "    RBS   adverb, superlative best\n",
    "    RP   particle give up\n",
    "    TO   to go 'to' the store\n"
   ]
  },
  {
   "cell_type": "markdown",
   "metadata": {},
   "source": [
    "#### 1. Use tags for lemmatization"
   ]
  },
  {
   "cell_type": "markdown",
   "metadata": {},
   "source": [
    "pos_tag gets the tag for the word, it comes in form of a list of tuples[(word1, tag1)(word2, tag2)(word3, tag3)].\n",
    "\n",
    "Use indexing to drill down: the first[0] gets to the individual tuples, the [1] gets to the tags, and the [0] grabs the first letter of a tag."
   ]
  },
  {
   "cell_type": "code",
   "execution_count": 111,
   "metadata": {
    "scrolled": false
   },
   "outputs": [
    {
     "name": "stdout",
     "output_type": "stream",
     "text": [
      "N\n",
      "['DAY', 'DAY', 'DOLLAR', 'DOLLY', 'DOR', 'DVD', 'Daisy', 'Darling', 'Darling', 'Darling', 'David', 'Day', 'DeNiro', 'Dead', 'Definitely', 'Department', 'Despite', 'Despite', 'Do', 'Donald', 'E-6', 'E-6', 'E-7', 'Eagle', 'Earp', 'East', 'Eastwood', 'Edwards', 'Edwards', 'Edwards', 'Edwards', 'Effect', 'Enjoy', 'Entering', 'Evans', 'Even', 'Exceptional', 'Finally', 'Finally', 'Finney', 'Finney', 'Finney', 'Finney', 'First', 'Fischer', 'Fischer', 'Fischer', 'Fischer', 'Fischer', 'From', 'GIGI', 'GODFATHER', 'Gamble', 'Garner', 'Gentleman', 'Gentleman', 'Gentleman', 'Gentleman', 'Gere', 'Gere', 'Gere', 'Gere', 'Gere', 'Gosset', 'Guard', 'Guard', 'Guard', 'Guard', 'Guard', 'Guard', 'Guard', 'Guard', 'Guard', 'Guard', 'Guardian', 'Guardian', 'Guardian', 'Guardsmen', 'HALF', 'HARI', 'Harwood', 'Harwood', 'Harwood', 'Has', 'He', 'He', 'His', 'His', 'Hollywood', 'Honor', 'Hood', 'How', 'How', 'However', 'Hudson', 'Hudson', 'Hudson', 'Hudson', 'I', 'I']\n"
     ]
    }
   ],
   "source": [
    "from nltk.corpus import wordnet  \n",
    "\n",
    "#WordNet is a large lexical database of English. Nouns, verbs, adjectives and adverbs \n",
    "#are grouped into sets of cognitive synonyms (synsets), each expressing a distinct concept. \n",
    "\n",
    "print (nltk.pos_tag([\"meaningful\"])[0][1][0])\n",
    "       \n",
    "       \n",
    "def get_wordnet_pos(word):\n",
    "    tag = nltk.pos_tag([word])[0][1][0].upper()\n",
    "    tag_dict = {\"J\": wordnet.ADJ,\n",
    "                \"N\": wordnet.NOUN,\n",
    "                \"V\": wordnet.VERB,\n",
    "                \"R\": wordnet.ADV}\n",
    "    return tag_dict.get(tag, wordnet.NOUN)\n",
    "\n",
    "# print (get_wordnet_pos(\"facing\"))\n",
    "# print (get_wordnet_pos(\"kindly\"))\n",
    "\n",
    "\n",
    "lemm_words = [wnl.lemmatize(w, get_wordnet_pos(w)) for w in filtered_words]\n",
    "print (sorted(lemm_words)[220:400])"
   ]
  },
  {
   "cell_type": "markdown",
   "metadata": {},
   "source": [
    "#### 2. Tagging our data\n",
    "\n",
    "nltk.pos_tag() returns a tuple with the POS tag. The key here is to map NLTK’s POS tags to the format wordnet lemmatizer would accept. The get_wordnet_pos() function defined below does this mapping job.\n",
    "\n",
    "Reference: https://www.machinelearningplus.com/nlp/lemmatization-examples-python/"
   ]
  },
  {
   "cell_type": "code",
   "execution_count": 112,
   "metadata": {},
   "outputs": [
    {
     "data": {
      "text/plain": [
       "[('faking', 'VBG'),\n",
       " ('a', 'DT'),\n",
       " ('review', 'NN'),\n",
       " ('for', 'IN'),\n",
       " ('tagging', 'VBG'),\n",
       " ('purpose', 'NN')]"
      ]
     },
     "execution_count": 112,
     "metadata": {},
     "output_type": "execute_result"
    }
   ],
   "source": [
    "text = word_tokenize(\"faking a review for tagging purpose\")\n",
    "nltk.pos_tag(text)"
   ]
  },
  {
   "cell_type": "code",
   "execution_count": 120,
   "metadata": {},
   "outputs": [
    {
     "name": "stdout",
     "output_type": "stream",
     "text": [
      "Counter({'NN': 769, 'NNP': 375, 'JJ': 335, 'RB': 215, 'VBP': 145, 'VB': 114, 'PRP': 109, 'DT': 80, 'IN': 69, 'CD': 69, 'VBD': 54, 'MD': 39, '``': 28, '.': 26, 'VBZ': 25, '(': 20, ')': 20, ':': 16, 'CC': 15, 'VBG': 13, \"''\": 12, 'VBN': 11, 'NNS': 11, '$': 10, 'JJS': 5, 'POS': 5, 'PRP$': 4, 'FW': 3, 'JJR': 3, 'RP': 3, 'EX': 3, ',': 3, 'UH': 2, 'RBR': 2, 'SYM': 2, 'WP': 2, 'WP$': 1, 'WRB': 1, 'WDT': 1, 'TO': 1})\n"
     ]
    }
   ],
   "source": [
    "from collections import Counter\n",
    "\n",
    "tags = nltk.pos_tag(lemm_words)\n",
    "# print (tags[:5])\n",
    "\n",
    "tag_counts = Counter(tag for word,tag in tags)\n",
    "print (tag_counts)\n"
   ]
  },
  {
   "cell_type": "markdown",
   "metadata": {},
   "source": [
    "### Counting Words"
   ]
  },
  {
   "cell_type": "markdown",
   "metadata": {},
   "source": [
    "#### 1. Check Vocabulary Diversity\n",
    "set() creates a distinct collection of the iterable elements (all words here)."
   ]
  },
  {
   "cell_type": "code",
   "execution_count": 14,
   "metadata": {},
   "outputs": [
    {
     "name": "stdout",
     "output_type": "stream",
     "text": [
      "1208\n",
      "2621\n",
      "The vocabulary diversity of the reviews is: 0.46089278901182756\n"
     ]
    }
   ],
   "source": [
    "print (len(set(lemm_words)))  # number of distinct words\n",
    "print (len(lemm_words))    # number of total words\n",
    "print (\"The vocabulary diversity of the reviews is: \"+ str(len(set(lemm_words))/len(lemm_words)))"
   ]
  },
  {
   "cell_type": "markdown",
   "metadata": {},
   "source": [
    "#### 2. Count total words and unique words"
   ]
  },
  {
   "cell_type": "code",
   "execution_count": 126,
   "metadata": {},
   "outputs": [
    {
     "name": "stdout",
     "output_type": "stream",
     "text": [
      "{'My': 2, 'boyfriend': 1, 'I': 84, 'go': 16, 'watch': 5, 'The': 47, 'Guardian': 3, 'At': 2, 'first': 5, \"n't\": 29, 'want': 5, 'love': 7, 'movie-': 1, 'It': 14, 'definitely': 4, 'best': 6, 'movie': 68, 'see': 23, 'sometime': 1, 'They': 2, 'portrayed': 1, 'USCG': 5, 'well': 15, 'really': 11, 'show': 5, 'think': 9, 'appreciate': 2, 'Not': 2, 'teach': 2, 'good': 8, 'hard': 2, 'job': 3, 'would': 11, 'challenge': 1, 'scary': 1, 'great': 9, 'around': 5, 'suggest': 2, 'anyone': 3, 'end': 6, 'broke': 1, 'heart': 1, 'know': 7, 'storyline': 1, 'give': 10, '2': 2, 'thumb': 1, 'cry': 2, 'emotional': 1, '20': 2, 'could': 11, '!': 14, 'David': 1, 'Bryce': 1, 'comment': 1, 'nearby': 1, 'exceptionally': 1, 'write': 2, 'informative': 1, 'almost': 3, 'say': 7, 'everything': 1, 'feel': 4, 'DARLING': 2, 'LILI': 5, 'This': 12, 'massive': 1, 'musical': 7, 'peculiar': 1, 'blown': 1, 'produce': 1, 'must': 6, 'cause': 1, 'rupture': 1, 'Paramount': 4, '1970': 1, 'cost': 1, '22': 2, 'million': 8, 'dollar': 3, 'That': 1, 'simply': 1, 'irresponsible': 1, 'greenlit': 1, 'board': 1, 'meeting': 2, '``': 28, 'hey': 1, 'get': 13, 'Pink': 2, 'Panther': 2, 'guy': 3, 'Sound': 2, 'Of': 1, 'Music': 2, 'gal': 1, 'let': 3, \"''\": 11, 'hand': 1, 'blank': 1, 'cheque': 1, 'result': 4, 'hybrid': 1, 'GIGI': 1, 'ZEPPELIN': 1, 'HALF': 1, 'A': 9, 'SIXPENCE': 1, 'MGM': 1, '40': 1, 'song': 2, 'dance': 1, 'number': 2, 'style': 1, '(': 20, 'daisy': 1, 'boater': 1, ')': 20, 'hopelessly': 1, 'old': 4, 'fashion': 3, 'like': 17, 'porridge': 1, 'MATA': 1, 'HARI': 1, 'dramatics': 1, 'production': 3, 'colossal': 1, 'lush': 1, 'breathtaking': 1, 'view': 2, 'rest': 2, ':': 5, 'ridiculous': 1, 'romance': 3, 'Julie': 3, 'look': 7, 'befuddle': 1, 'Hudson': 4, 'already': 1, 'dead': 2, 'mistime': 1, 'comedy': 3, 'astoundingly': 1, 'boring': 3, 'deaden': 1, 'spectacular': 2, 'film': 20, 'irritate': 1, 'twee': 1, '1940s': 1, 'mega': 2, 'vulgar': 1, 'bit': 2, 'spice': 1, 'STAR': 1, 'release': 2, 'year': 5, 'sadly': 2, 'crashed': 1, 'finally': 2, 'excellent': 1, 'genuinely': 1, 'Andrews': 5, 'sublime': 1, 'mature': 1, 'especially': 1, 'last': 4, 'half': 4, 'hour': 3, 'POPPINS': 1, 'DOLLY': 1, 'frilly': 1, 'believe': 2, 'kill': 1, 'binge': 1, '60': 1, 'make': 11, 'Poppins': 2, 'Edwards': 4, 'intention': 1, 'collectively': 1, 'faint': 1, 'saw': 4, 'another': 5, '$': 8, 'fester': 1, 'CATCH': 1, '12': 1, 'ON': 3, 'CLEAR': 3, 'DAY': 3, '25': 1, 'PAINT': 1, 'YOUR': 1, 'WAGON': 1, 'financial': 1, 'abyss': 1, 'CLEOPATRA': 1, 'proportion': 1, '77': 2, 'tie': 1, '4': 2, 'uncertain': 1, 'future': 2, 'Maybe': 2, 'ask': 1, 'seer': 1, 'Daisy': 1, 'Gamble': 1, 'popular': 1, 'immediate': 1, 'Australia': 1, 'ran': 1, '70mm': 1, 'cinema': 1, 'month': 1, 'fail': 2, 'sub': 1, 'stick': 1, 'ever': 5, 'surface': 2, 'one': 12, 'night': 4, 'stand': 1, 'Sunday': 1, 'double': 1, 'Thank': 2, 'god': 1, 'simple': 1, '1million': 1, 'yes': 1, 'ONE': 1, 'MILLION': 1, 'DOLLAR': 1, 'LOVE': 1, 'STORY': 1, 'gangster': 1, 'pic': 1, 'THE': 1, 'GODFATHER': 1, 'also': 2, 'ready': 1, 'recover': 1, 'next': 3, 'two': 8, '5m': 1, 'incredible': 2, \"'ve\": 4, 'story': 8, 'kid': 2, 'Boy': 1, 'troubled': 3, 'past': 6, 'join': 1, 'military': 2, 'face': 1, 'fall': 4, 'becomes': 2, 'man': 4, 'mentor': 1, 'time': 6, 'played': 8, 'perfectly': 1, 'Kevin': 9, 'Costner': 23, ';': 6, 'An': 3, 'ordinary': 1, 'common': 1, 'everyday': 1, 'problem': 5, 'life': 5, 'extraordinary': 1, 'conviction': 1, 'save': 3, 'After': 3, 'lose': 2, 'team': 2, 'take': 5, 'position': 2, 'training': 1, 'generation': 1, 'hero': 3, 'young': 3, 'recruit': 1, 'Kutcher': 16, 'While': 3, 'scene': 13, 'local': 1, 'interest': 3, 'tad': 1, 'stiff': 1, 'generate': 1, 'enough': 5, 'heat': 1, 'melt': 1, 'butter': 1, 'compliment': 1, 'never': 13, 'understood': 1, 'Sela': 2, 'Ward': 2, 'neglect': 2, 'wife': 5, 'felt': 4, 'quit': 3, 'concern': 1, 'safety': 2, 'oppose': 1, 'selfish': 1, 'need': 2, 'But': 6, 'presence': 1, 'screen': 1, 'pleasure': 1, 'unaccredited': 1, 'star': 2, 'Coast': 11, 'Guard': 10, 'Sea': 1, 'Both': 1, 'powerful': 1, 'force': 1, 'grant': 1, 'real': 6, 'slow': 1, 'spot': 1, 'use': 5, 'waste': 2, '15': 1, 'minute': 3, 'strengthen': 1, 'character': 22, 'relationship': 1, 'still': 3, 'work': 6, 'rescue': 12, 'intense': 1, 'edit': 1, 'provide': 2, 'maximum': 1, 'impact': 1, 'earns': 1, 'audience': 4, 'applause': 2, 'And': 5, 'son': 1, 'Our': 1, 'family': 1, 'entire': 2, 'sell': 3, 'sneak': 2, 'preview': 2, 'enjoy': 2, 'Ashton': 7, 'convincing': 2, 'performance': 4, 'fictional': 2, 'helicopter': 3, 'swimmer': 6, 'Ben': 2, 'Jake': 2, 'ca': 2, 'help': 1, 'imagine': 1, 'difficult': 2, 'graduate': 2, 'school': 4, 'day': 5, 'part': 12, 'Even': 1, 'though': 4, 'deliver': 1, 'rather': 3, 'virtue': 1, 'spirit': 1, 'dedication': 2, 'bravery': 1, 'exhibit': 1, 'member': 1, 'actual': 1, 'U': 3, 'S': 3, 'special': 2, 'effect': 4, 'create': 1, 'You': 3, 'actually': 2, 'without': 2, 'Hollywood': 1, 'bar': 3, 'might': 2, 'agree': 1, 'since': 2, 'condone': 1, 'behavior': 1, 'Very': 1, 'entertain': 1, 'action': 3, 'packed': 1, 'worth': 4, 'REAL': 1, 'So': 2, 'Others': 1, 'May': 1, 'Live': 1, \"'d\": 1, 'highly': 2, 'recommend': 3, 'everyone': 2, \"'m\": 4, 'big': 2, 'fan': 2, 'although': 1, 'technically': 1, 'qualify': 1, 'thought': 2, 'chance': 1, 'war': 2, 'mediocre': 1, 'seem': 9, 'totally': 1, 'kilter': 1, 'role': 7, 'probably': 3, 'find': 2, 'buy': 2, 'connive': 1, 'deceptive': 1, 'spy': 2, 'Sorry': 1, 'classic': 1, 'stereotype': 2, 'beautiful': 1, 'feminine': 1, 'always': 5, 'matronly': 1, 'surely': 1, 'Mary': 1, 'No': 3, 'doubt': 2, 'desperately': 2, 'try': 5, 'typecast': 1, 'She': 1, 'quite': 1, 'beguiling': 1, 'appearance': 1, 'keep': 4, 'focus': 1, 'whole': 1, 'found': 1, 'tune': 1, '-': 4, 'conversation': 1, 'room': 3, 'usually': 1, 'shush': 1, 'everybody': 1, 'tell': 3, 'little': 6, 'held': 1, 'attention': 2, 'Do': 1, 'fortunate': 1, 'pre-release': 1, 'expect': 3, 'sea': 4, 'amaze': 2, 'edge': 1, 'seat': 1, 'tense': 1, 'moment': 3, 'living': 1, 'weaker': 1, 'revolve': 1, 'largely': 1, 'stereotypical': 2, 'set': 1, 'spoil': 1, 'follow': 2, 'along': 1, 'line': 5, 'Officer': 4, 'Gentleman': 4, 'cheesy': 1, 'aftertaste': 1, 'Like': 1, 'pretty': 2, 'check': 1, 'long': 5, 'clichés': 1, 'coaxed': 1, 'friend': 2, 'mine': 1, \"'ll\": 6, 'admit': 1, 'reluctant': 1, 'knew': 3, 'able': 2, 'wrong': 1, 'Fischer': 5, 'Randall': 5, 'professionalism': 1, 'sign': 2, 'toy': 1, 'emotion': 2, 'exactly': 1, 'theater': 2, 'overcome': 1, 'laughter': 1, 'move': 3, 'tear': 3, 'second': 1, 'exit': 1, 'many': 6, 'woman': 3, 'full': 1, 'grown': 1, 'men': 3, 'judge': 1, '1982': 1, 'every': 1, 'three': 2, 'claim': 3, 'Next': 1, 'There': 3, 'yet': 3, 'live': 1, 'different': 3, 'We': 3, 'usual': 2, 'ripped': 1, 'OAAG': 3, 'DOR': 1, 'instructor': 3, 'Richard': 2, 'Gere': 5, 'overdose': 1, 'drill': 1, 'hope': 1, ',': 3, 'come': 7, 'back': 1, 'girl': 1, 'realizes': 1, 'etc': 1, 'predictable': 1, 'sun': 1, 'rise': 1, 'East': 1, 'horribly': 1, 'miscast': 2, 'top': 1, 'play': 5, 'wise': 1, 'teacher': 1, 'sense': 4, 'limited': 1, 'act': 4, 'ability': 2, 'terrible': 1, 'skill': 1, 'barely': 1, 'notch': 1, 'Keanu': 1, 'Reeves': 1, 'main': 2, 'wannabe': 1, 'amazingly': 1, 'one-dimensional': 1, 'care': 5, 'either': 1, 'least': 1, 'turn': 3, '?': 12, 'leaf': 1, 'plot': 2, 'point': 6, 'unturned': 1, 'oh': 1, 'wait': 1, 'forgot': 1, 'close': 2, 'girlfriend': 1, 'happens': 2, 'six': 1, 'What': 2, 'baffling': 1, 'review': 1, 'general': 1, 'public': 1, 'opinion': 1, 'cease': 1, 'Alas': 1, 'Credible': 1, 'script': 4, 'hurry': 1, 'First': 1, 'offer': 1, 'unrelated': 1, 'string': 1, 'event': 1, 'Will': 1, 'center': 3, 'How': 2, 'Thomas': 1, 'In': 6, 'front': 1, 'develops': 1, 'artificially': 1, 'propped': 1, 'monologue': 1, 'third': 1, 'party': 1, 'singer': 1, 'explains': 2, 'Finally': 2, 'anymore': 1, 'learn': 3, 'something': 2, 'Three': 1, 'ending': 1, 'proffer': 1, 'decision': 1, 'All': 2, 'If': 4, 'hang': 1, '100th': 1, 'yawn': 1, 'pick': 1, 'Despite': 2, 'transparent': 1, 'attempt': 1, 'gain': 1, 'wash': 2, 'Petty': 1, '1st': 2, 'Class': 1, 'E-6': 2, '6': 2, 'strongly': 1, 'represent': 1, 'far': 3, 'fetch': 1, 'far-fetched': 1, 'PO': 1, 'inside': 2, 'sinking': 1, 'vessel': 3, 'pull': 1, 'captain': 1, 'engine': 1, 'happen': 3, 'Swimmers': 1, 'allow': 1, 'matter': 1, 'circumstance': 1, 'Second': 1, 'Command': 1, 'Center': 1, 'supposedly': 1, 'Kodiak': 1, 'NASA': 1, 'command': 3, 'gear': 1, 'hi-tech': 1, 'Third': 1, 'Captain': 1, 'Airstation': 1, 'run': 1, 'search': 2, '&': 3, 'case': 2, '10': 3, 'people': 1, 'reality': 1, 'E-7': 1, 'SAR': 2, 'Controller': 2, 'maybe': 2, 'support': 4, 'personnel': 1, 'assist': 1, 'Radio': 1, 'Watchstander': 1, 'Otherwise': 1, 'incorporate': 1, 'rate': 2, 'CG': 1, 'instead': 1, 'Aviation': 1, 'base': 1, 'Some': 2, 'remind': 2, 'dumb': 1, 'stuff': 2, 'trouble': 1, 'Once': 1, 'Mr': 1, 'drag': 1, 'longer': 1, 'necessary': 1, 'Aside': 1, 'terrific': 1, 'sequence': 3, 'Most': 1, 'u': 3, 'ghost': 2, 'closet': 2, 'realize': 1, 'early': 1, 'forgotten': 1, 'much': 12, 'later': 1, 'cocky': 1, 'overconfident': 1, 'else': 2, 'clutter': 1, 'His': 2, 'obstacle': 1, 'appear': 2, 'win': 1, 'way': 7, 'stinker': 1, 'told': 1, 'driven': 1, 'prior': 1, 'inkling': 1, 'foreshadow': 1, 'magic': 1, 'yardstick': 1, 'measure': 1, 'watch-ability': 1, 'squirmy': 1, 'start': 1, 'shift': 1, 'notice': 1, 'butt': 1, 'sore': 1, 'even': 6, 'Predictable': 1, 'sure': 3, 'branch': 1, 'note': 1, 'recruitment': 1, 'level': 2, 'under-appreciated': 1, 'boat': 1, 'sink': 1, 'enjoyable': 1, 'fun': 1, 'perfect': 1, 'age': 2, 'macho': 1, 'However': 1, 'impressed': 1, 'TV': 1, 'consider': 1, 'immature': 1, 'punk': 1, 'He': 2, 'leading-man': 1, 'status': 1, 'advance': 1, 'rough': 1, 'cut': 1, '2/3': 1, 'stock': 1, 'grainy': 1, 'sound': 1, 'drop': 2, 'microphone': 1, 'place': 3, 'Also': 1, 'representative': 1, 'feedback': 2, 'particularly': 1, '*': 12, 'POSSIBLE': 1, 'SPOILER': 1, 'concerned': 1, 'couple': 2, 'begin': 2, 'home': 1, 'pack': 1, 'reply': 1, 'anything': 3, 'house': 1, 'layout': 1, 'right': 1, 'leave': 1, 'tough': 2, 'British': 1, 'playwright': 1, 'Ronald': 2, 'Harwood': 3, 'adapts': 1, 'autobiographical': 1, 'stage': 2, 'drama': 2, 'loud': 1, 'bellowing': 1, 'WWII': 1, 'Shakespearean': 1, 'theatrical': 1, 'troupe': 1, 'saddle': 1, 'blustery': 1, 'brilliant-but-unreliable': 1, 'tether': 1, 'actor': 5, 'effete': 1, 'assistant': 2, 'diligently': 1, 'master': 1, 'coiffed': 1, 'costume': 1, 'King': 1, 'Lear': 1, 'Air': 1, 'Raid': 1, 'grip': 1, 'unravel': 1, 'situation': 3, 'Based': 1, 'wan': 1, 'Donald': 1, 'Wolfit': 1, 'whose': 1, 'dresser': 1, 'acclaim': 1, 'welcome': 1, 'scenery-chewing': 1, 'thespian': 1, 'Unfortunately': 2, 'Albert': 1, 'Finney': 4, 'career': 1, 'elderly': 2, 'robust': 1, 'quick-thinking': 1, 'Oscar-nominated': 1, 'director': 1, 'Peter': 1, 'Yates': 1, 'modulate': 1, 'Sir': 1, 'mood': 1, 'bout': 1, 'coherency': 1, 'stop': 1, 'train': 1, 'echo': 1, 'voice': 1, 'curiously': 1, 'apart': 1, 'With': 1, 'wreck': 1, 'human': 1, 'midst': 1, 'health': 1, 'aptitude': 1, 'assume': 1, 'dedicate': 1, 'length': 1, 'protect': 1, 'bos': 1, 'servant': 2, 'Tom': 1, 'Courtenay': 2, 'prod': 1, 'badger': 1, 'goad': 1, 'carry': 2, 'nominate': 1, 'Oscar': 1, 'alongside': 1, 'Best': 1, 'Actor': 1, 'attune': 1, 'eventually': 1, 'bleating': 1, 'confusion': 1, 'achieve': 1, 'These': 1, 'thankfully': 1, 'peck': 1, 'head': 2, 'scenarist': 1, 'careful': 1, 'love-hate': 1, 'pattern': 1, 'possibly': 1, 'perceive': 1, 'juxtaposition': 1, 'v': 1, 'celebrity': 1, 'nothing': 2, 'behold': 1, 'portrait': 1, 'except': 2, 'deterioration': 1, 'narcissism': 1, 'hint': 2, '1/2': 1, 'Butterfly': 1, 'Effect': 1, 'were/are': 1, 'capable': 1, 'miss': 1, 'believable': 1, 'Though': 1, 'influence': 1, 'hurricane': 1, 'Katrina': 1, 'aftermath': 1, 'none': 2, 'Overall': 1, 'fact': 2, 'brought': 1, 'forward': 1, 'water': 2, 'perspective': 1, 'intimidate': 1, 'deep': 2, 'fishing': 1, 'present': 1, 'Definitely': 1, 'DVD': 1, 'pale': 1, 'imitation': 1, \"'Officer\": 1, \"'\": 5, 'NO': 1, 'chemistry': 1, 'unknown': 1, 'dialog': 1, 'wooden': 1, 'hackneyed': 1, 'climax': 1, 'anti-climactic': 1, 'fearless': 1, 'awesome': 1, 'recruiting': 1, 'fear': 1, 'formulaic': 1, 'confuse': 1, 'redeem': 1, 'accident': 1, 'fault': 1, 'rag': 1, 'die': 1, 'light': 1, \"'conflict\": 1, 'mud': 1, 'puddle': 2, 'free': 1, 'certainly': 1, 'money': 1, 'wish': 1, 'divide': 1, '--': 1, 'personal': 2, 'ashore': 2, 'Kutsher': 1, 'survival': 1, 'guide': 1, 'Master': 1, 'Chief': 1, 'Alaska': 1, 'death': 1, 'beach': 1, 'struck': 1, 'barnacle': 1, 'encrust': 1, 'typical': 1, 'fight': 1, 'Navy': 2, 'Guardsmen': 1, 'pirate': 1, 'experienced': 1, 'timer': 1, 'tender': 1, 'married': 1, 'chief': 2, 'prove': 2, 'nineteen': 1, 'ex': 1, 'Kostner': 1, 'pay': 1, 'farewell': 1, 'visit': 1, 'seemingly': 1, 'sadistic': 1, 'demand': 1, 'pursuit': 1, 'loftier': 1, 'goal': 1, 'gift': 1, 'hobble': 1, 'Clint': 1, 'Eastwood': 1, 'John': 1, 'Wayne': 1, 'Lou': 1, 'Gosset': 1, 'Jr': 1, 'Vigo': 1, 'Mortenson': 1, 'Robert': 2, 'DeNiro': 1, 'elsewhere': 1, 'climactic': 1, 'element': 1, 'drawn': 1, 'shamelessly': 1, 'Perfect': 1, 'Storm': 1, 'Dead': 1, 'Calm': 1, 'None': 1, 'fresh': 1, 'handle': 1, 'originality': 1, 'kind': 2, 'documentary': 1, 'afterward': 1, 'weak': 1, 'instruction': 1, 'mostly': 1, 'conflict': 1, 'tension': 1, 'shame': 1, 'noble': 1, 'outfit': 1, 'official': 1, 'mission': 1, 'property': 1, 'transfer': 1, 'Department': 1, 'serf': 1, 'combat': 1, 'World': 1, 'War': 2, 'II': 1, 'manage': 1, 'Medal': 1, 'Honor': 1, 'winner': 1, 'rank': 1, 'devolves': 1, 'succession': 1, 'visual': 1, 'display': 1, 'disappointment': 1, 'count': 1, 'maker': 1, 'often': 1, 'become': 1, 'distraction': 1, 'One': 2, 'borrow': 1, 'memorable': 1, '2003': 1, 'Day': 1, 'Tomorrow': 1, 'bad': 3, 'borrows': 1, 'risk': 1, 'BUT': 1, 'See': 1, 'Movie': 1, 'downfall': 1, 'clever': 1, 'borrowing': 1, 'overboard': 1, 'battening': 1, 'hatch': 1, 'rid': 1, 'storm': 1, 'Why': 1, 'nearly': 1, 'swimmingly': 1, 'Mrs': 1, 'Robinson': 1, 'success': 1, 'cast': 1, 'From': 1, 'nit-pick': 1, 'wear': 1, 'Enjoy': 1, 'Just': 1, 'smooth': 1, 'ride': 1, '7': 1, 'under-promoted': 1, 'truly': 2, 'exceptional': 2, 'Entering': 1, 'theatre': 1, 'caught': 1, 'guard': 1, 'high': 1, 'quality': 1, 'image': 1, 'serious': 1, 'exemplify': 1, 'deserves': 1, 'monetary': 1, 'unlike': 1, 'lightly': 1, 'Truly': 1, 'Exceptional': 1, 'Blake': 2, 'legendary': 1, 'fiasco': 1, 'pointless': 1, 'combination': 1, 'Eagle': 1, 'Has': 1, 'Landed': 1, 'Star': 1, 'Oh': 1, 'Lovely': 1, 'Darling': 3, 'Lili': 3, 'engages': 1, 'viewer': 2, 'aerial': 1, 'espionage': 1, 'ho': 1, 'hum': 1, 'suppose': 2, 'damn': 1, 'disaster': 1, 'waver': 1, 'tone': 1, 'decides': 1, 'apparently': 1, 'spoof': 1, 'pathetically': 1, 'grindingly': 1, 'square': 1, 'Old': 1, 'understandably': 1, 'stayed': 1, 'away': 1, 'drove': 1, 'awful': 1, 'James': 1, 'Garner': 1, 'vast': 1, 'improvement': 1, 'cardboard': 1, 'connect': 1, 'vice': 1, 'versa': 1, 'joke': 1, 'perform': 1, 'miscalculate': 1, 'earnestness': 1, 'SOB': 1, 'OK': 1, 'expensive': 1, 'professional': 1, 'lavish': 1, 'bear': 1, 'To': 1, 'quote': 1, 'Evans': 1, '24': 1, 'picture': 1, 'Wow': 1, 'Postman': 1, 'Tin': 1, 'Cup': 1, 'Waterworld': 1, 'Bodyguard': 1, 'Wyatt': 1, 'Earp': 1, 'Robin': 1, 'Hood': 1, 'baseball': 1, 'Seems': 1, 'specifically': 1, 'heroic': 1, 'flaw': 1, 'greatness': 1, 'redemption': 1, 'Yup': 1, 'within': 1, '5': 1, \"'re\": 1, 'awe': 1, 'build': 1, 'collage': 1, 'spoiler': 1, 'several': 1, 'title': 1, 'mix': 1, 'Backdraft': 2, 'easily': 1, 'Watch': 1, 'slightly': 1, 'underrated': 1, 'Russell': 1}\n"
     ]
    }
   ],
   "source": [
    "# create a dictionary to store uniques words and their counts.\n",
    "count = {}\n",
    "for w in lemm_words:\n",
    "    if w in count:\n",
    "        count[w] += 1\n",
    "    else:\n",
    "        count[w] = 1\n",
    "    \n",
    "# count = {k: v for k, v in sorted(count.items(), key=lambda item: item[1], reverse=True)}\n",
    "print (count)\n",
    "\n",
    "# \"key=lambda\" allows us to sort our dictionary by value. \n",
    "# This is an example of a Lambda function, which is a function without a name.\n",
    "# default it's ascending sort, \"reverse=True\" flips the order to descending.\n"
   ]
  },
  {
   "cell_type": "markdown",
   "metadata": {},
   "source": [
    "#### 3. NLTK's Frequency Distributions Functions\n",
    "\n",
    "    fdist = FreqDist(samples)\tcreate a frequency distribution containing the given samples\n",
    "    fdist[sample] += 1\tincrement the count for this sample\n",
    "    fdist['monstrous']\tcount of the number of times a given sample occurred\n",
    "    fdist.freq('monstrous')\tfrequency of a given sample\n",
    "    fdist.N()\ttotal number of samples\n",
    "    fdist.most_common(n)\tthe n most common samples and their frequencies\n",
    "    for sample in fdist:\titerate over the samples\n",
    "    fdist.max()\tsample with the greatest count\n",
    "    fdist.tabulate()\ttabulate the frequency distribution\n",
    "    fdist.plot()\tgraphical plot of the frequency distribution\n",
    "    fdist.plot(cumulative=True)\tcumulative plot of the frequency distribution\n",
    "    fdist1 |= fdist2\tupdate fdist1 with counts from fdist2\n",
    "    fdist1 < fdist2\ttest if samples in fdist1 occur less frequently than in fdist2"
   ]
  },
  {
   "cell_type": "code",
   "execution_count": 128,
   "metadata": {},
   "outputs": [
    {
     "data": {
      "text/plain": [
       "[('I', 84),\n",
       " ('movie', 68),\n",
       " ('The', 47),\n",
       " (\"n't\", 29),\n",
       " ('``', 28),\n",
       " ('see', 23),\n",
       " ('Costner', 23),\n",
       " ('character', 22),\n",
       " ('(', 20),\n",
       " (')', 20),\n",
       " ('film', 20),\n",
       " ('like', 17),\n",
       " ('go', 16),\n",
       " ('Kutcher', 16),\n",
       " ('well', 15),\n",
       " ('It', 14),\n",
       " ('!', 14),\n",
       " ('get', 13),\n",
       " ('scene', 13),\n",
       " ('never', 13),\n",
       " ('This', 12),\n",
       " ('one', 12),\n",
       " ('rescue', 12),\n",
       " ('part', 12),\n",
       " ('?', 12),\n",
       " ('much', 12),\n",
       " ('*', 12),\n",
       " ('really', 11),\n",
       " ('would', 11),\n",
       " ('could', 11)]"
      ]
     },
     "execution_count": 128,
     "metadata": {},
     "output_type": "execute_result"
    }
   ],
   "source": [
    "from nltk import FreqDist\n",
    "\n",
    "freq_words=FreqDist(lemm_words)\n",
    "freq_words.most_common(30)"
   ]
  },
  {
   "cell_type": "code",
   "execution_count": 132,
   "metadata": {},
   "outputs": [
    {
     "name": "stdout",
     "output_type": "stream",
     "text": [
      "Requirement already satisfied: matplotlib in /opt/anaconda3/lib/python3.7/site-packages (3.1.3)\n",
      "Requirement already satisfied: kiwisolver>=1.0.1 in /opt/anaconda3/lib/python3.7/site-packages (from matplotlib) (1.1.0)\n",
      "Requirement already satisfied: python-dateutil>=2.1 in /opt/anaconda3/lib/python3.7/site-packages (from matplotlib) (2.8.1)\n",
      "Requirement already satisfied: pyparsing!=2.0.4,!=2.1.2,!=2.1.6,>=2.0.1 in /opt/anaconda3/lib/python3.7/site-packages (from matplotlib) (2.4.6)\n",
      "Requirement already satisfied: cycler>=0.10 in /opt/anaconda3/lib/python3.7/site-packages (from matplotlib) (0.10.0)\n",
      "Requirement already satisfied: numpy>=1.11 in /opt/anaconda3/lib/python3.7/site-packages (from matplotlib) (1.18.1)\n",
      "Requirement already satisfied: setuptools in /opt/anaconda3/lib/python3.7/site-packages (from kiwisolver>=1.0.1->matplotlib) (46.0.0.post20200309)\n",
      "Requirement already satisfied: six>=1.5 in /opt/anaconda3/lib/python3.7/site-packages (from python-dateutil>=2.1->matplotlib) (1.14.0)\n"
     ]
    }
   ],
   "source": [
    "! pip install matplotlib"
   ]
  },
  {
   "cell_type": "code",
   "execution_count": 136,
   "metadata": {},
   "outputs": [
    {
     "data": {
      "image/png": "[encoded data removed]",
      "text/plain": [
       "<Figure size 720x360 with 1 Axes>"
      ]
     },
     "metadata": {
      "needs_background": "light"
     },
     "output_type": "display_data"
    },
    {
     "data": {
      "image/png": "[encoded data removed]",
      "text/plain": [
       "<Figure size 720x360 with 1 Axes>"
      ]
     },
     "metadata": {
      "needs_background": "light"
     },
     "output_type": "display_data"
    }
   ],
   "source": [
    "import matplotlib.pyplot as plt\n",
    "plt.figure(figsize=(10, 5))  \n",
    "plt.title(\"Cummulative Frequency Distribution\")\n",
    "\n",
    "plot1 = FreqDist(lemm_words).plot(30, cumulative=True, color=\"black\")\n",
    "\n",
    "import matplotlib.pyplot as plt\n",
    "plt.figure(figsize=(10, 5))  \n",
    "plt.title(\"Non-cummulative Frequency Distribution\")\n",
    "plot2 = FreqDist(lemm_words).plot(30, cumulative=False, color=\"purple\")\n"
   ]
  },
  {
   "cell_type": "markdown",
   "metadata": {},
   "source": [
    "### Dispersion Plot\n",
    "\n",
    "Show the location of words in the collection."
   ]
  },
  {
   "cell_type": "code",
   "execution_count": 27,
   "metadata": {},
   "outputs": [
    {
     "data": {
      "image/png": "[encoded data removed]",
      "text/plain": [
       "<Figure size 432x288 with 1 Axes>"
      ]
     },
     "metadata": {
      "needs_background": "light"
     },
     "output_type": "display_data"
    }
   ],
   "source": [
    "from nltk.draw.dispersion import dispersion_plot\n",
    "dispersion_plot(lemm_words, ['movie', 'scene','character'])\n"
   ]
  },
  {
   "cell_type": "markdown",
   "metadata": {},
   "source": [
    "### Sentiment Analysis\n",
    "\n",
    "https://www.nltk.org/api/nltk.sentiment.html"
   ]
  },
  {
   "cell_type": "code",
   "execution_count": 36,
   "metadata": {},
   "outputs": [
    {
     "name": "stdout",
     "output_type": "stream",
     "text": [
      "{'neg': 0.014, 'neu': 0.645, 'pos': 0.341, 'compound': 0.9832}\n",
      "{'neg': 0.192, 'neu': 0.745, 'pos': 0.063, 'compound': -0.5095}\n",
      "{'neg': 0.0, 'neu': 0.549, 'pos': 0.451, 'compound': 0.6249}\n",
      "{'neg': 0.101, 'neu': 0.899, 'pos': 0.0, 'compound': -0.2263}\n",
      "{'neg': 0.0, 'neu': 0.631, 'pos': 0.369, 'compound': 0.6249}\n",
      "{'neg': 0.21, 'neu': 0.653, 'pos': 0.137, 'compound': -0.2498}\n",
      "{'neg': 0.0, 'neu': 0.698, 'pos': 0.302, 'compound': 0.7861}\n",
      "{'neg': 0.0, 'neu': 0.9, 'pos': 0.1, 'compound': 0.2769}\n",
      "{'neg': 0.0, 'neu': 1.0, 'pos': 0.0, 'compound': 0.0}\n",
      "{'neg': 0.492, 'neu': 0.508, 'pos': 0.0, 'compound': -0.4404}\n",
      "{'neg': 0.0, 'neu': 0.876, 'pos': 0.124, 'compound': 0.6739}\n",
      "{'neg': 0.0, 'neu': 1.0, 'pos': 0.0, 'compound': 0.0}\n",
      "{'neg': 0.194, 'neu': 0.667, 'pos': 0.139, 'compound': -0.2484}\n",
      "{'neg': 0.281, 'neu': 0.47, 'pos': 0.249, 'compound': -0.431}\n",
      "{'neg': 0.0, 'neu': 0.848, 'pos': 0.152, 'compound': 0.3612}\n",
      "{'neg': 0.0, 'neu': 1.0, 'pos': 0.0, 'compound': 0.0}\n",
      "{'neg': 0.101, 'neu': 0.734, 'pos': 0.164, 'compound': 0.5729}\n",
      "{'neg': 0.048, 'neu': 0.888, 'pos': 0.064, 'compound': 0.212}\n",
      "{'neg': 0.066, 'neu': 0.804, 'pos': 0.13, 'compound': 0.5044}\n",
      "{'neg': 0.0, 'neu': 0.745, 'pos': 0.255, 'compound': 0.9067}\n",
      "{'neg': 0.0, 'neu': 1.0, 'pos': 0.0, 'compound': 0.0}\n",
      "{'neg': 0.149, 'neu': 0.644, 'pos': 0.208, 'compound': 0.296}\n",
      "{'neg': 0.081, 'neu': 0.627, 'pos': 0.293, 'compound': 0.7964}\n",
      "{'neg': 0.145, 'neu': 0.67, 'pos': 0.184, 'compound': 0.1779}\n",
      "{'neg': 0.263, 'neu': 0.526, 'pos': 0.211, 'compound': -0.1531}\n",
      "{'neg': 0.0, 'neu': 0.613, 'pos': 0.387, 'compound': 0.9001}\n",
      "{'neg': 0.179, 'neu': 0.744, 'pos': 0.077, 'compound': -0.5719}\n",
      "{'neg': 0.0, 'neu': 0.619, 'pos': 0.381, 'compound': 0.5719}\n",
      "{'neg': 0.0, 'neu': 1.0, 'pos': 0.0, 'compound': 0.0}\n",
      "{'neg': 0.0, 'neu': 0.745, 'pos': 0.255, 'compound': 0.5859}\n",
      "{'neg': 0.142, 'neu': 0.756, 'pos': 0.102, 'compound': -0.2263}\n",
      "{'neg': 0.0, 'neu': 1.0, 'pos': 0.0, 'compound': 0.0}\n",
      "{'neg': 0.0, 'neu': 0.621, 'pos': 0.379, 'compound': 0.6908}\n",
      "{'neg': 0.0, 'neu': 0.641, 'pos': 0.359, 'compound': 0.4215}\n",
      "{'neg': 0.0, 'neu': 0.682, 'pos': 0.318, 'compound': 0.4215}\n",
      "{'neg': 0.0, 'neu': 0.784, 'pos': 0.216, 'compound': 0.5106}\n",
      "{'neg': 0.0, 'neu': 0.727, 'pos': 0.273, 'compound': 0.7184}\n",
      "{'neg': 0.053, 'neu': 0.64, 'pos': 0.307, 'compound': 0.976}\n",
      "{'neg': 0.0, 'neu': 0.941, 'pos': 0.059, 'compound': 0.3612}\n",
      "{'neg': 0.0, 'neu': 0.383, 'pos': 0.617, 'compound': 0.7939}\n",
      "{'neg': 0.0, 'neu': 0.707, 'pos': 0.293, 'compound': 0.7003}\n",
      "{'neg': 0.0, 'neu': 0.682, 'pos': 0.318, 'compound': 0.4201}\n",
      "{'neg': 0.131, 'neu': 0.869, 'pos': 0.0, 'compound': -0.2411}\n",
      "{'neg': 0.228, 'neu': 0.409, 'pos': 0.363, 'compound': 0.3182}\n",
      "{'neg': 0.0, 'neu': 1.0, 'pos': 0.0, 'compound': 0.0}\n",
      "{'neg': 0.0, 'neu': 1.0, 'pos': 0.0, 'compound': 0.0}\n",
      "{'neg': 0.062, 'neu': 0.772, 'pos': 0.166, 'compound': 0.4019}\n",
      "{'neg': 0.14, 'neu': 0.86, 'pos': 0.0, 'compound': -0.0772}\n",
      "{'neg': 0.0, 'neu': 0.77, 'pos': 0.23, 'compound': 0.6361}\n",
      "{'neg': 0.0, 'neu': 0.845, 'pos': 0.155, 'compound': 0.5927}\n",
      "{'neg': 0.36, 'neu': 0.64, 'pos': 0.0, 'compound': -0.743}\n",
      "{'neg': 0.0, 'neu': 1.0, 'pos': 0.0, 'compound': 0.0}\n",
      "{'neg': 0.0, 'neu': 1.0, 'pos': 0.0, 'compound': 0.0}\n",
      "{'neg': 0.0, 'neu': 0.533, 'pos': 0.467, 'compound': 0.3867}\n",
      "{'neg': 0.0, 'neu': 0.78, 'pos': 0.22, 'compound': 0.7574}\n",
      "{'neg': 0.06, 'neu': 0.721, 'pos': 0.219, 'compound': 0.7506}\n",
      "{'neg': 0.195, 'neu': 0.805, 'pos': 0.0, 'compound': -0.4404}\n",
      "{'neg': 0.0, 'neu': 0.817, 'pos': 0.183, 'compound': 0.8885}\n",
      "{'neg': 0.0, 'neu': 0.829, 'pos': 0.171, 'compound': 0.4767}\n",
      "{'neg': 0.079, 'neu': 0.751, 'pos': 0.17, 'compound': 0.3182}\n",
      "{'neg': 0.756, 'neu': 0.244, 'pos': 0.0, 'compound': -0.4767}\n",
      "{'neg': 0.0, 'neu': 0.676, 'pos': 0.324, 'compound': 0.7346}\n",
      "{'neg': 0.0, 'neu': 0.805, 'pos': 0.195, 'compound': 0.4404}\n",
      "{'neg': 0.0, 'neu': 1.0, 'pos': 0.0, 'compound': 0.0}\n",
      "{'neg': 0.063, 'neu': 0.831, 'pos': 0.106, 'compound': 0.3182}\n",
      "{'neg': 0.26, 'neu': 0.664, 'pos': 0.076, 'compound': -0.7469}\n",
      "{'neg': 0.0, 'neu': 0.76, 'pos': 0.24, 'compound': 0.6249}\n",
      "{'neg': 0.0, 'neu': 1.0, 'pos': 0.0, 'compound': 0.0}\n",
      "{'neg': 0.031, 'neu': 0.852, 'pos': 0.116, 'compound': 0.7184}\n",
      "{'neg': 0.153, 'neu': 0.766, 'pos': 0.081, 'compound': -0.3818}\n",
      "{'neg': 0.062, 'neu': 0.625, 'pos': 0.312, 'compound': 0.765}\n",
      "{'neg': 0.128, 'neu': 0.834, 'pos': 0.038, 'compound': -0.7121}\n",
      "{'neg': 0.039, 'neu': 0.888, 'pos': 0.073, 'compound': 0.4404}\n",
      "{'neg': 0.263, 'neu': 0.737, 'pos': 0.0, 'compound': -0.431}\n",
      "{'neg': 0.189, 'neu': 0.811, 'pos': 0.0, 'compound': -0.2732}\n",
      "{'neg': 0.259, 'neu': 0.741, 'pos': 0.0, 'compound': -0.6808}\n",
      "{'neg': 0.0, 'neu': 1.0, 'pos': 0.0, 'compound': 0.0}\n",
      "{'neg': 0.0, 'neu': 1.0, 'pos': 0.0, 'compound': 0.0}\n",
      "{'neg': 0.0, 'neu': 1.0, 'pos': 0.0, 'compound': 0.0}\n",
      "{'neg': 0.0, 'neu': 1.0, 'pos': 0.0, 'compound': 0.0}\n",
      "{'neg': 0.088, 'neu': 0.803, 'pos': 0.108, 'compound': 0.128}\n",
      "{'neg': 0.0, 'neu': 1.0, 'pos': 0.0, 'compound': 0.0}\n",
      "{'neg': 0.158, 'neu': 0.842, 'pos': 0.0, 'compound': -0.3875}\n",
      "{'neg': 0.434, 'neu': 0.566, 'pos': 0.0, 'compound': -0.7096}\n",
      "{'neg': 0.0, 'neu': 1.0, 'pos': 0.0, 'compound': 0.0}\n",
      "{'neg': 0.0, 'neu': 1.0, 'pos': 0.0, 'compound': 0.0}\n",
      "{'neg': 0.0, 'neu': 1.0, 'pos': 0.0, 'compound': 0.0}\n",
      "{'neg': 0.0, 'neu': 0.866, 'pos': 0.134, 'compound': 0.5267}\n",
      "{'neg': 0.069, 'neu': 0.849, 'pos': 0.081, 'compound': 0.0772}\n",
      "{'neg': 0.0, 'neu': 1.0, 'pos': 0.0, 'compound': 0.0}\n",
      "{'neg': 0.134, 'neu': 0.866, 'pos': 0.0, 'compound': -0.6523}\n",
      "{'neg': 0.144, 'neu': 0.784, 'pos': 0.072, 'compound': -0.2732}\n",
      "{'neg': 0.0, 'neu': 0.877, 'pos': 0.123, 'compound': 0.4201}\n",
      "{'neg': 0.0, 'neu': 0.756, 'pos': 0.244, 'compound': 0.7003}\n",
      "{'neg': 0.0, 'neu': 0.816, 'pos': 0.184, 'compound': 0.6369}\n",
      "{'neg': 0.117, 'neu': 0.792, 'pos': 0.09, 'compound': -0.25}\n",
      "{'neg': 0.194, 'neu': 0.806, 'pos': 0.0, 'compound': -0.7184}\n",
      "{'neg': 0.091, 'neu': 0.909, 'pos': 0.0, 'compound': -0.0516}\n",
      "{'neg': 0.094, 'neu': 0.678, 'pos': 0.228, 'compound': 0.582}\n",
      "{'neg': 0.153, 'neu': 0.847, 'pos': 0.0, 'compound': -0.5466}\n",
      "{'neg': 0.11, 'neu': 0.675, 'pos': 0.214, 'compound': 0.4019}\n",
      "{'neg': 0.17, 'neu': 0.729, 'pos': 0.101, 'compound': -0.25}\n",
      "{'neg': 0.194, 'neu': 0.543, 'pos': 0.264, 'compound': 0.2263}\n",
      "{'neg': 0.125, 'neu': 0.783, 'pos': 0.091, 'compound': -0.1962}\n",
      "{'neg': 0.103, 'neu': 0.701, 'pos': 0.196, 'compound': 0.4588}\n",
      "{'neg': 0.121, 'neu': 0.879, 'pos': 0.0, 'compound': -0.296}\n",
      "{'neg': 0.0, 'neu': 1.0, 'pos': 0.0, 'compound': 0.0}\n",
      "{'neg': 0.152, 'neu': 0.848, 'pos': 0.0, 'compound': -0.3612}\n",
      "{'neg': 0.204, 'neu': 0.796, 'pos': 0.0, 'compound': -0.3182}\n",
      "{'neg': 0.0, 'neu': 0.806, 'pos': 0.194, 'compound': 0.8151}\n",
      "{'neg': 0.0, 'neu': 0.613, 'pos': 0.387, 'compound': 0.8576}\n",
      "{'neg': 0.0, 'neu': 0.791, 'pos': 0.209, 'compound': 0.5719}\n",
      "{'neg': 0.0, 'neu': 0.674, 'pos': 0.326, 'compound': 0.5256}\n",
      "{'neg': 0.104, 'neu': 0.802, 'pos': 0.094, 'compound': -0.0598}\n",
      "{'neg': 0.0, 'neu': 0.577, 'pos': 0.423, 'compound': 0.6588}\n",
      "{'neg': 0.0, 'neu': 0.811, 'pos': 0.189, 'compound': 0.2732}\n",
      "{'neg': 0.049, 'neu': 0.951, 'pos': 0.0, 'compound': -0.2732}\n",
      "{'neg': 0.088, 'neu': 0.912, 'pos': 0.0, 'compound': -0.2755}\n",
      "{'neg': 0.0, 'neu': 1.0, 'pos': 0.0, 'compound': 0.0}\n",
      "{'neg': 0.0, 'neu': 1.0, 'pos': 0.0, 'compound': 0.0}\n",
      "{'neg': 0.0, 'neu': 1.0, 'pos': 0.0, 'compound': 0.0}\n",
      "{'neg': 0.109, 'neu': 0.891, 'pos': 0.0, 'compound': -0.296}\n",
      "{'neg': 0.052, 'neu': 0.828, 'pos': 0.119, 'compound': 0.3697}\n",
      "{'neg': 0.045, 'neu': 0.955, 'pos': 0.0, 'compound': -0.128}\n",
      "{'neg': 0.0, 'neu': 1.0, 'pos': 0.0, 'compound': 0.0}\n",
      "{'neg': 0.206, 'neu': 0.794, 'pos': 0.0, 'compound': -0.3818}\n",
      "{'neg': 0.0, 'neu': 0.893, 'pos': 0.107, 'compound': 0.4588}\n",
      "{'neg': 0.078, 'neu': 0.854, 'pos': 0.067, 'compound': 0.0516}\n",
      "{'neg': 0.107, 'neu': 0.725, 'pos': 0.168, 'compound': 0.5423}\n",
      "{'neg': 0.048, 'neu': 0.778, 'pos': 0.175, 'compound': 0.7096}\n",
      "{'neg': 0.0, 'neu': 0.946, 'pos': 0.054, 'compound': 0.296}\n",
      "{'neg': 0.0, 'neu': 0.833, 'pos': 0.167, 'compound': 0.4215}\n",
      "{'neg': 0.0, 'neu': 0.687, 'pos': 0.313, 'compound': 0.6249}\n",
      "{'neg': 0.269, 'neu': 0.544, 'pos': 0.187, 'compound': -0.3387}\n",
      "{'neg': 0.04, 'neu': 0.8, 'pos': 0.16, 'compound': 0.8285}\n",
      "{'neg': 0.07, 'neu': 0.93, 'pos': 0.0, 'compound': -0.2411}\n",
      "{'neg': 0.0, 'neu': 1.0, 'pos': 0.0, 'compound': 0.0}\n",
      "{'neg': 0.127, 'neu': 0.476, 'pos': 0.398, 'compound': 0.7405}\n",
      "{'neg': 0.0, 'neu': 1.0, 'pos': 0.0, 'compound': 0.0}\n",
      "{'neg': 0.0, 'neu': 1.0, 'pos': 0.0, 'compound': 0.0}\n",
      "{'neg': 0.09, 'neu': 0.482, 'pos': 0.428, 'compound': 0.765}\n",
      "{'neg': 0.228, 'neu': 0.637, 'pos': 0.135, 'compound': -0.4118}\n",
      "{'neg': 0.32, 'neu': 0.68, 'pos': 0.0, 'compound': -0.3291}\n",
      "{'neg': 0.179, 'neu': 0.691, 'pos': 0.13, 'compound': -0.2124}\n",
      "{'neg': 0.18, 'neu': 0.82, 'pos': 0.0, 'compound': -0.296}\n",
      "{'neg': 0.0, 'neu': 1.0, 'pos': 0.0, 'compound': 0.0}\n",
      "{'neg': 0.0, 'neu': 0.568, 'pos': 0.432, 'compound': 0.765}\n",
      "{'neg': 0.0, 'neu': 0.574, 'pos': 0.426, 'compound': 0.6369}\n",
      "{'neg': 0.0, 'neu': 1.0, 'pos': 0.0, 'compound': 0.0}\n",
      "{'neg': 0.037, 'neu': 0.921, 'pos': 0.042, 'compound': 0.0772}\n",
      "{'neg': 0.191, 'neu': 0.809, 'pos': 0.0, 'compound': -0.3818}\n",
      "{'neg': 0.0, 'neu': 1.0, 'pos': 0.0, 'compound': 0.0}\n",
      "{'neg': 0.0, 'neu': 1.0, 'pos': 0.0, 'compound': 0.0}\n",
      "{'neg': 0.254, 'neu': 0.746, 'pos': 0.0, 'compound': -0.5267}\n",
      "{'neg': 0.0, 'neu': 1.0, 'pos': 0.0, 'compound': 0.0}\n",
      "{'neg': 0.289, 'neu': 0.711, 'pos': 0.0, 'compound': -0.6908}\n",
      "{'neg': 0.0, 'neu': 1.0, 'pos': 0.0, 'compound': 0.0}\n",
      "{'neg': 0.299, 'neu': 0.536, 'pos': 0.165, 'compound': -0.4588}\n",
      "{'neg': 0.08, 'neu': 0.813, 'pos': 0.108, 'compound': 0.4005}\n",
      "{'neg': 0.175, 'neu': 0.612, 'pos': 0.213, 'compound': 0.4019}\n",
      "{'neg': 0.326, 'neu': 0.674, 'pos': 0.0, 'compound': -0.743}\n",
      "{'neg': 0.111, 'neu': 0.6, 'pos': 0.289, 'compound': 0.7351}\n",
      "{'neg': 0.0, 'neu': 1.0, 'pos': 0.0, 'compound': 0.0}\n",
      "{'neg': 0.0, 'neu': 0.87, 'pos': 0.13, 'compound': 0.2023}\n",
      "{'neg': 1.0, 'neu': 0.0, 'pos': 0.0, 'compound': -0.5106}\n"
     ]
    },
    {
     "name": "stdout",
     "output_type": "stream",
     "text": [
      "{'neg': 0.0, 'neu': 0.857, 'pos': 0.143, 'compound': 0.3612}\n",
      "{'neg': 0.0, 'neu': 0.708, 'pos': 0.292, 'compound': 0.7351}\n",
      "{'neg': 0.206, 'neu': 0.794, 'pos': 0.0, 'compound': -0.3818}\n",
      "{'neg': 0.0, 'neu': 1.0, 'pos': 0.0, 'compound': 0.0}\n",
      "{'neg': 0.0, 'neu': 0.747, 'pos': 0.253, 'compound': 0.8156}\n",
      "{'neg': 0.0, 'neu': 0.711, 'pos': 0.289, 'compound': 0.6908}\n",
      "{'neg': 0.0, 'neu': 1.0, 'pos': 0.0, 'compound': 0.0}\n",
      "{'neg': 0.0, 'neu': 1.0, 'pos': 0.0, 'compound': 0.0}\n",
      "{'neg': 0.0, 'neu': 1.0, 'pos': 0.0, 'compound': 0.0}\n",
      "{'neg': 0.0, 'neu': 0.556, 'pos': 0.444, 'compound': 0.5849}\n",
      "{'neg': 0.061, 'neu': 0.781, 'pos': 0.158, 'compound': 0.5218}\n",
      "{'neg': 0.0, 'neu': 0.581, 'pos': 0.419, 'compound': 0.7579}\n",
      "{'neg': 0.0, 'neu': 0.684, 'pos': 0.316, 'compound': 0.7506}\n",
      "{'neg': 0.38, 'neu': 0.62, 'pos': 0.0, 'compound': -0.5994}\n",
      "{'neg': 0.0, 'neu': 0.863, 'pos': 0.137, 'compound': 0.539}\n",
      "{'neg': 0.0, 'neu': 0.725, 'pos': 0.275, 'compound': 0.6486}\n",
      "{'neg': 0.0, 'neu': 1.0, 'pos': 0.0, 'compound': 0.0}\n",
      "{'neg': 0.129, 'neu': 0.61, 'pos': 0.261, 'compound': 0.4497}\n",
      "{'neg': 0.0, 'neu': 0.887, 'pos': 0.113, 'compound': 0.4939}\n",
      "{'neg': 0.068, 'neu': 0.706, 'pos': 0.226, 'compound': 0.5719}\n",
      "{'neg': 0.0, 'neu': 0.828, 'pos': 0.172, 'compound': 0.4019}\n",
      "{'neg': 0.0, 'neu': 0.706, 'pos': 0.294, 'compound': 0.8459}\n",
      "{'neg': 0.231, 'neu': 0.769, 'pos': 0.0, 'compound': -0.5106}\n",
      "{'neg': 0.0, 'neu': 1.0, 'pos': 0.0, 'compound': 0.0}\n",
      "{'neg': 0.0, 'neu': 1.0, 'pos': 0.0, 'compound': 0.0}\n",
      "{'neg': 0.466, 'neu': 0.111, 'pos': 0.423, 'compound': -0.1007}\n",
      "{'neg': 0.049, 'neu': 0.673, 'pos': 0.278, 'compound': 0.8466}\n",
      "{'neg': 0.231, 'neu': 0.769, 'pos': 0.0, 'compound': -0.4019}\n",
      "{'neg': 0.229, 'neu': 0.771, 'pos': 0.0, 'compound': -0.7391}\n",
      "{'neg': 0.272, 'neu': 0.728, 'pos': 0.0, 'compound': -0.6249}\n",
      "{'neg': 0.75, 'neu': 0.25, 'pos': 0.0, 'compound': -0.4588}\n",
      "{'neg': 0.0, 'neu': 0.875, 'pos': 0.125, 'compound': 0.4588}\n",
      "{'neg': 0.0, 'neu': 0.896, 'pos': 0.104, 'compound': 0.296}\n",
      "{'neg': 0.064, 'neu': 0.551, 'pos': 0.384, 'compound': 0.8831}\n",
      "{'neg': 0.105, 'neu': 0.752, 'pos': 0.143, 'compound': 0.2516}\n",
      "{'neg': 0.129, 'neu': 0.76, 'pos': 0.111, 'compound': -0.0772}\n",
      "{'neg': 0.0, 'neu': 0.351, 'pos': 0.649, 'compound': 0.8126}\n",
      "{'neg': 0.0, 'neu': 1.0, 'pos': 0.0, 'compound': 0.0}\n",
      "{'neg': 0.0, 'neu': 0.815, 'pos': 0.185, 'compound': 0.3612}\n",
      "{'neg': 0.0, 'neu': 0.833, 'pos': 0.167, 'compound': 0.5267}\n",
      "{'neg': 0.0, 'neu': 1.0, 'pos': 0.0, 'compound': 0.0}\n",
      "{'neg': 0.0, 'neu': 1.0, 'pos': 0.0, 'compound': 0.0}\n",
      "{'neg': 0.0, 'neu': 1.0, 'pos': 0.0, 'compound': 0.0}\n",
      "{'neg': 0.0, 'neu': 1.0, 'pos': 0.0, 'compound': 0.0}\n",
      "{'neg': 0.0, 'neu': 0.599, 'pos': 0.401, 'compound': 0.8271}\n",
      "{'neg': 0.0, 'neu': 0.728, 'pos': 0.272, 'compound': 0.8537}\n",
      "[None, None, None, None, None, None, None, None, None, None, None, None, None, None, None, None, None, None, None, None, None, None, None, None, None, None, None, None, None, None, None, None, None, None, None, None, None, None, None, None, None, None, None, None, None, None, None, None, None, None, None, None, None, None, None, None, None, None, None, None, None, None, None, None, None, None, None, None, None, None, None, None, None, None, None, None, None, None, None, None, None, None, None, None, None, None, None, None, None, None, None, None, None, None, None, None, None, None, None, None, None, None, None, None, None, None, None, None, None, None, None, None, None, None, None, None, None, None, None, None, None, None, None, None, None, None, None, None, None, None, None, None, None, None, None, None, None, None, None, None, None, None, None, None, None, None, None, None, None, None, None, None, None, None, None, None, None, None, None, None, None, None, None, None, None, None, None, None, None, None, None, None, None, None, None, None, None, None, None, None, None, None, None, None, None, None, None, None, None, None, None, None, None, None, None, None, None, None, None, None, None, None, None, None, None, None, None, None, None, None, None]\n"
     ]
    }
   ],
   "source": [
    "# nltk.sentiment.sentiment_analyzer.SentimentAnalyzer\n",
    "from nltk.sentiment.vader import SentimentIntensityAnalyzer\n",
    "\n",
    "tokens2 = sent_tokenize(data)\n",
    "\n",
    "def review_sentiment(text):\n",
    "    points = SentimentIntensityAnalyzer().polarity_scores(text)\n",
    "    print (points)\n",
    "#     neg = points[\"neg\"]\n",
    "#     pos = points[\"pos\"]\n",
    "#     neu = points[\"neu\"]\n",
    "#     if neg > pos:\n",
    "#         return (\"Negative review\")\n",
    "#     elif neg < pos:\n",
    "#         return (\"Positive review\")\n",
    "#     else:\n",
    "#         return (\"Not feeling it...\")\n",
    "\n",
    "    \n",
    "review_sent = [review_sentiment(token) for token in tokens2 ]\n",
    "print (review_sent)\n"
   ]
  },
  {
   "cell_type": "code",
   "execution_count": 32,
   "metadata": {},
   "outputs": [
    {
     "name": "stdout",
     "output_type": "stream",
     "text": [
      "Counter({'Positive review': 102, 'Negative review': 61, 'Not feeling it...': 48})\n"
     ]
    }
   ],
   "source": [
    "sent_counts=Counter(i for i in review_sents)\n",
    "print (sent_counts)"
   ]
  },
  {
   "cell_type": "code",
   "execution_count": 144,
   "metadata": {},
   "outputs": [
    {
     "data": {
      "text/plain": [
       "<BarContainer object of 3 artists>"
      ]
     },
     "execution_count": 144,
     "metadata": {},
     "output_type": "execute_result"
    },
    {
     "data": {
      "image/png": "[encoded data removed]",
      "text/plain": [
       "<Figure size 720x360 with 1 Axes>"
      ]
     },
     "metadata": {
      "needs_background": "light"
     },
     "output_type": "display_data"
    }
   ],
   "source": [
    "import matplotlib.pyplot as plt\n",
    "\n",
    "plt.figure(figsize=(10, 5))  \n",
    "plt.bar(sent_counts.keys(), sent_counts.values(), color=(0.7,0.6,0.9,0.8))"
   ]
  },
  {
   "cell_type": "markdown",
   "metadata": {},
   "source": [
    "Reference: \n",
    "\n",
    "        https://www.nltk.org/book/ch01.html\n",
    "        https://www.nltk.org/\n",
    "\n"
   ]
  },
  {
   "cell_type": "code",
   "execution_count": null,
   "metadata": {},
   "outputs": [],
   "source": []
  }
 ],
 "metadata": {
  "kernelspec": {
   "display_name": "Python 3",
   "language": "python",
   "name": "python3"
  },
  "language_info": {
   "codemirror_mode": {
    "name": "ipython",
    "version": 3
   },
   "file_extension": ".py",
   "mimetype": "text/x-python",
   "name": "python",
   "nbconvert_exporter": "python",
   "pygments_lexer": "ipython3",
   "version": "3.7.6"
  }
 },
 "nbformat": 4,
 "nbformat_minor": 4
}
